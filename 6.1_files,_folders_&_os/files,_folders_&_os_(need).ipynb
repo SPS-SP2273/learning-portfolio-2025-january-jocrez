{
 "cells": [
  {
   "attachments": {},
   "cell_type": "markdown",
   "id": "123456",
   "metadata": {},
   "source": [
    "<div style=\"text-align:left;font-size:2em\"><span style=\"font-weight:bolder;font-size:1.25em\">SP2273 | Learning Portfolio</span><br><br><span style=\"font-weight:bold;color:darkred\">Files, Folders & OS (Need)</span></div>"
   ]
  },
  {
   "attachments": {},
   "cell_type": "markdown",
   "id": "dafd1b52",
   "metadata": {},
   "source": [
    "# What to expect in this chapter"
   ]
  },
  {
   "attachments": {},
   "cell_type": "markdown",
   "id": "1e8b869c",
   "metadata": {},
   "source": [
    "# 1 Important concepts"
   ]
  },
  {
   "attachments": {},
   "cell_type": "markdown",
   "id": "a5e598fc",
   "metadata": {},
   "source": [
    "## 1.1 Path"
   ]
  },
  {
   "attachments": {},
   "cell_type": "markdown",
   "id": "00bbac8c",
   "metadata": {},
   "source": [
    "## 1.2 More about relative paths"
   ]
  },
  {
   "attachments": {},
   "cell_type": "markdown",
   "id": "8191d89b",
   "metadata": {},
   "source": [
    "### macOS or Linux"
   ]
  },
  {
   "cell_type": "code",
   "execution_count": null,
   "id": "ef854f5b",
   "metadata": {},
   "outputs": [],
   "source": [
    "\n",
    "# Your code here\n"
   ]
  },
  {
   "attachments": {},
   "cell_type": "markdown",
   "id": "9a06c3b6",
   "metadata": {},
   "source": [
    "## 1.3 Path separator"
   ]
  },
  {
   "attachments": {},
   "cell_type": "markdown",
   "id": "4a002f92",
   "metadata": {},
   "source": [
    "## 1.4 Text files vs. Binary files"
   ]
  },
  {
   "attachments": {},
   "cell_type": "markdown",
   "id": "39bf955e",
   "metadata": {},
   "source": [
    "## 1.5 Extensions"
   ]
  },
  {
   "attachments": {},
   "cell_type": "markdown",
   "id": "23f019ef",
   "metadata": {},
   "source": [
    "# 2 Opening and closing files"
   ]
  },
  {
   "attachments": {},
   "cell_type": "markdown",
   "id": "fd9a1c9a",
   "metadata": {},
   "source": [
    "## 2.1 Reading data"
   ]
  },
  {
   "attachments": {},
   "cell_type": "markdown",
   "id": "35c24094",
   "metadata": {},
   "source": [
    "## 2.2 Writing data"
   ]
  },
  {
   "attachments": {},
   "cell_type": "markdown",
   "id": "2e639972",
   "metadata": {},
   "source": [
    "### Writing to a file in one go"
   ]
  },
  {
   "cell_type": "code",
   "execution_count": 1,
   "id": "6067c592",
   "metadata": {},
   "outputs": [],
   "source": [
    "text = 'Far out in the uncharted backwaters of the unfashionable end of the western spiral arm of the Galaxy lies a small unregarded yellow sun.\\nOrbiting this at a distance of roughly ninety-two million miles is an utterly insignificant little blue green planet whose ape-descended life forms are so amazingly primitive that they still think digital watches are a pretty neat idea.'"
   ]
  },
  {
   "cell_type": "code",
   "execution_count": 2,
   "id": "d534b107-c440-44e2-991a-03cd0db89e82",
   "metadata": {},
   "outputs": [],
   "source": [
    "with open('my-text-once.txt', 'w') as file:\n",
    "    file.write(text)"
   ]
  },
  {
   "attachments": {},
   "cell_type": "markdown",
   "id": "d9cc4e66",
   "metadata": {},
   "source": [
    "### Writing to a file, line by line"
   ]
  },
  {
   "cell_type": "code",
   "execution_count": 3,
   "id": "60e2c70e",
   "metadata": {},
   "outputs": [],
   "source": [
    "with open('my-text-lines.txt', 'a') as file:\n",
    "    for line in text.splitlines():\n",
    "        file.write(line)\n"
   ]
  },
  {
   "attachments": {},
   "cell_type": "markdown",
   "id": "bf74fb7d",
   "metadata": {},
   "source": [
    "# 3 Some useful packages"
   ]
  },
  {
   "cell_type": "code",
   "execution_count": 4,
   "id": "65536861-5757-4443-adbc-ce7bb5f6d645",
   "metadata": {},
   "outputs": [],
   "source": [
    "import os\n",
    "import glob\n",
    "import shutil"
   ]
  },
  {
   "attachments": {},
   "cell_type": "markdown",
   "id": "1fd643dc",
   "metadata": {},
   "source": [
    "# 4 OS safe paths"
   ]
  },
  {
   "cell_type": "code",
   "execution_count": 5,
   "id": "c7bced2d-39c3-480f-822c-5a5e612f2d3d",
   "metadata": {},
   "outputs": [
    {
     "name": "stdout",
     "output_type": "stream",
     "text": [
      "all-data\\sg-data\\data-01.txt\n"
     ]
    }
   ],
   "source": [
    "path = os.path.join('all-data', 'sg-data', 'data-01.txt')\n",
    "print(path)"
   ]
  },
  {
   "attachments": {},
   "cell_type": "markdown",
   "id": "70d38e47",
   "metadata": {},
   "source": [
    "# 5 Folders"
   ]
  },
  {
   "attachments": {},
   "cell_type": "markdown",
   "id": "d2e1a524",
   "metadata": {},
   "source": [
    "## 5.1 Creating folders"
   ]
  },
  {
   "cell_type": "code",
   "execution_count": 8,
   "id": "99f1775d-4da7-45e8-af47-9b2ed490835f",
   "metadata": {},
   "outputs": [
    {
     "name": "stdout",
     "output_type": "stream",
     "text": [
      "Creating people\\John\n",
      "Creating people\\Paul\n",
      "Creating people\\Ringo\n"
     ]
    }
   ],
   "source": [
    "os.mkdir('people')\n",
    "\n",
    "for person in ['John', 'Paul', 'Ringo']:\n",
    "    path = os.path.join('people', person)\n",
    "    print(f'Creating {path}') #optional, for us to ref if the code ran\n",
    "    os.mkdir(path)"
   ]
  },
  {
   "attachments": {},
   "cell_type": "markdown",
   "id": "3489eb9d",
   "metadata": {},
   "source": [
    "## 5.2 Checking for existence"
   ]
  },
  {
   "attachments": {},
   "cell_type": "markdown",
   "id": "89d26eec",
   "metadata": {},
   "source": [
    "### Using try-except"
   ]
  },
  {
   "cell_type": "code",
   "execution_count": 9,
   "id": "fb3686d1",
   "metadata": {},
   "outputs": [
    {
     "name": "stdout",
     "output_type": "stream",
     "text": [
      "people\\John already exists; skipping creation.\n",
      "people\\Paul already exists; skipping creation.\n",
      "people\\Ringo already exists; skipping creation.\n"
     ]
    }
   ],
   "source": [
    "\n",
    "for person in ['John', 'Paul', 'Ringo']:\n",
    "    path = os.path.join('people', person)\n",
    "    try:\n",
    "        os.mkdir(path)\n",
    "        print(f'Creating {path}')\n",
    "    except FileExistsError:\n",
    "        print(f'{path} already exists; skipping creation.')"
   ]
  },
  {
   "attachments": {},
   "cell_type": "markdown",
   "id": "cf6dd643",
   "metadata": {},
   "source": [
    "### Using os.path.exists()"
   ]
  },
  {
   "cell_type": "code",
   "execution_count": 10,
   "id": "2edca438",
   "metadata": {},
   "outputs": [
    {
     "name": "stdout",
     "output_type": "stream",
     "text": [
      "people\\John already exists; skipping creation.\n",
      "people\\Paul already exists; skipping creation.\n",
      "people\\Ringo already exists; skipping creation.\n"
     ]
    }
   ],
   "source": [
    "\n",
    "for person in ['John', 'Paul', 'Ringo']:\n",
    "    path = os.path.join('people', person)\n",
    "    if os.path.exists(path):\n",
    "        print(f'{path} already exists; skipping creation.')\n",
    "    else:\n",
    "        os.mkdir(path)\n",
    "        print(f'Creating {path}')"
   ]
  },
  {
   "attachments": {},
   "cell_type": "markdown",
   "id": "0c62725d",
   "metadata": {},
   "source": [
    "## 5.3 Copying files"
   ]
  },
  {
   "cell_type": "code",
   "execution_count": 11,
   "id": "8d3e40ae-09d4-4f2c-8455-a4f3202aef73",
   "metadata": {},
   "outputs": [
    {
     "name": "stdout",
     "output_type": "stream",
     "text": [
      "Copied file to people\\John\n",
      "Copied file to people\\Paul\n",
      "Copied file to people\\Ringo\n"
     ]
    }
   ],
   "source": [
    "for person in ['John', 'Paul', 'Ringo']:\n",
    "    path_to_destination = os.path.join('people', person)\n",
    "    shutil.copy('image.png', path_to_destination)\n",
    "    print(f'Copied file to {path_to_destination}')"
   ]
  },
  {
   "attachments": {},
   "cell_type": "markdown",
   "id": "13bb8b7c",
   "metadata": {},
   "source": [
    "# 6 Listing and looking for files"
   ]
  },
  {
   "cell_type": "code",
   "execution_count": 12,
   "id": "a854b7a2-0e74-4ebc-a9b3-c1c5016fd2e8",
   "metadata": {},
   "outputs": [
    {
     "data": {
      "text/plain": [
       "['people\\\\',\n",
       " 'people\\\\John',\n",
       " 'people\\\\John\\\\image.png',\n",
       " 'people\\\\Paul',\n",
       " 'people\\\\Paul\\\\image.png',\n",
       " 'people\\\\Ringo',\n",
       " 'people\\\\Ringo\\\\image.png']"
      ]
     },
     "execution_count": 12,
     "metadata": {},
     "output_type": "execute_result"
    }
   ],
   "source": [
    "glob.glob('people/**', recursive=True)"
   ]
  },
  {
   "attachments": {},
   "cell_type": "markdown",
   "id": "3108799d",
   "metadata": {},
   "source": [
    "# 7 Extracting file info"
   ]
  },
  {
   "attachments": {},
   "cell_type": "markdown",
   "id": "1376625a",
   "metadata": {},
   "source": [
    "# 8 Deleting stuff"
   ]
  }
 ],
 "metadata": {
  "kernelspec": {
   "display_name": "Python 3 (ipykernel)",
   "language": "python",
   "name": "python3"
  },
  "language_info": {
   "codemirror_mode": {
    "name": "ipython",
    "version": 3
   },
   "file_extension": ".py",
   "mimetype": "text/x-python",
   "name": "python",
   "nbconvert_exporter": "python",
   "pygments_lexer": "ipython3",
   "version": "3.12.3"
  },
  "toc": {
   "base_numbering": 1,
   "nav_menu": {},
   "number_sections": true,
   "sideBar": true,
   "skip_h1_title": false,
   "title_cell": "Table of Contents",
   "title_sidebar": "Contents",
   "toc_cell": false,
   "toc_position": {},
   "toc_section_display": true,
   "toc_window_display": false
  },
  "vscode": {
   "interpreter": {
    "hash": "31f2aee4e71d21fbe5cf8b01ff0e069b9275f58929596ceb00d14d90e3e16cd6"
   }
  }
 },
 "nbformat": 4,
 "nbformat_minor": 5
}
