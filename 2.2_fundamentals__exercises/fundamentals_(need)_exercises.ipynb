{
 "cells": [
  {
   "attachments": {},
   "cell_type": "markdown",
   "id": "123456",
   "metadata": {},
   "source": [
    "<div style=\"text-align:left;font-size:2em\"><span style=\"font-weight:bolder;font-size:1.25em\">SP2273 | Learning Portfolio</span><br><br><span style=\"font-weight:bold;color:darkred\">Fundamentals (Need) Exercises</span></div>"
   ]
  },
  {
   "cell_type": "markdown",
   "id": "104737ea-9cdb-4f7a-81d8-34a51816a4bb",
   "metadata": {},
   "source": [
    "## Exercise 1"
   ]
  },
  {
   "cell_type": "markdown",
   "id": "12b5601a-a603-48d6-878e-efed7cb8bdbc",
   "metadata": {},
   "source": [
    "1. python has functions indicated with ()\n",
    "1. python is case sensitive\n",
    "1. python has variables\n",
    "1. python uses different types of brackets \n",
    " (): function, math\n",
    " []: lists\n",
    " {}: dictionary\n",
    "\n",
    "1. *python is intepreted*\n",
    "\n",
    "1. *python has a commments feature using #*\n",
    "\n",
    "2. *= is different from ==*\n",
    "\n",
    "3. *use if to make decisions*\n",
    "\n",
    "4. *identations are important*\n",
    "\n",
    "5. *math and numpy packages*\n",
    "\n",
    "6. *dot shows ownership*"
   ]
  },
  {
   "cell_type": "markdown",
   "id": "259ffd0a-8fa1-4f2a-bb61-e4cd926501ac",
   "metadata": {},
   "source": [
    "## Exercise 2"
   ]
  },
  {
   "cell_type": "code",
   "execution_count": 51,
   "id": "9dea82ee-5033-45e5-b10c-bf1b40eeb319",
   "metadata": {},
   "outputs": [],
   "source": [
    "import math"
   ]
  },
  {
   "cell_type": "code",
   "execution_count": 13,
   "id": "cb0b6149-b2bc-4846-b2ca-f25a2a5e349c",
   "metadata": {},
   "outputs": [
    {
     "name": "stdout",
     "output_type": "stream",
     "text": [
      "3 4 5.0\n"
     ]
    }
   ],
   "source": [
    "x, y = 3, 4\n",
    "z = math.sqrt(x**2 + y**2)\n",
    "print(x,y,z)"
   ]
  },
  {
   "cell_type": "markdown",
   "id": "686ab868-60a1-45ef-92be-8ca9b5b232d6",
   "metadata": {},
   "source": [
    "## Exercise 3"
   ]
  },
  {
   "cell_type": "markdown",
   "id": "3a4d68aa-cf0d-461b-a7f5-4157a0e3b3a5",
   "metadata": {},
   "source": [
    "| **#** | **Term**     | **Description**                                                                                        |\n",
    "|:-----:|--------------|--------------------------------------------------------------------------------------------------------|\n",
    "|   1   | Function     | Helps to do a specific task e.g. print                                                                 |\n",
    "|   2   | Arguments    | Are entered into a function to provide more details to the task                                        |\n",
    "|   3   | Comments     | For layman communication between programmers or yourself                                               |\n",
    "|   4   | Indentations | Are used to separate True and False blocks                                                             |\n",
    "|   5   | Packages     | Allows Python to execute tasks like square root that could not be done before importing these packages |\n",
    "|   6   | .            | Shows ownership                                                                                        |\n",
    "|   7   | :            | Used to assign blocks of code                                                                          |\n",
    "|   8   | []           | Used to make a list                                                                                    |\n",
    "|   9   | [[],[]]      | Used to make a 2D list                                                                                 |\n",
    "|   10  | {}           | Used to make a dictionary                                                                              |"
   ]
  },
  {
   "cell_type": "markdown",
   "id": "cc450bee-437c-48c2-a460-23c48f42935c",
   "metadata": {},
   "source": [
    "## Exercise 4"
   ]
  },
  {
   "cell_type": "code",
   "execution_count": 49,
   "id": "4b8da3da-be7c-4e2f-bb41-1f8f3fc2900e",
   "metadata": {},
   "outputs": [],
   "source": [
    "x=5/2 #5 divide by 2 = 2.5 inclusive of decimal places"
   ]
  },
  {
   "cell_type": "code",
   "execution_count": 54,
   "id": "964570df-0894-4aa8-9691-c27098d990e2",
   "metadata": {},
   "outputs": [
    {
     "data": {
      "text/plain": [
       "1.1111111111111112"
      ]
     },
     "execution_count": 54,
     "metadata": {},
     "output_type": "execute_result"
    }
   ],
   "source": [
    "10/9"
   ]
  },
  {
   "cell_type": "code",
   "execution_count": 46,
   "id": "53f90527-6966-4995-bb1f-c43c264dc354",
   "metadata": {},
   "outputs": [
    {
     "data": {
      "text/plain": [
       "float"
      ]
     },
     "execution_count": 46,
     "metadata": {},
     "output_type": "execute_result"
    }
   ],
   "source": [
    "x=10/3\n",
    "type(x)"
   ]
  },
  {
   "cell_type": "code",
   "execution_count": 47,
   "id": "6439c653-85f4-444d-ba06-98800c4863f2",
   "metadata": {},
   "outputs": [
    {
     "data": {
      "text/plain": [
       "2"
      ]
     },
     "execution_count": 47,
     "metadata": {},
     "output_type": "execute_result"
    }
   ],
   "source": [
    "5//2 #5 divide by 2 rounded off to the nearest integer"
   ]
  },
  {
   "cell_type": "code",
   "execution_count": 22,
   "id": "a36437b1-83b3-4120-a979-1d11be354f97",
   "metadata": {},
   "outputs": [
    {
     "data": {
      "text/plain": [
       "int"
      ]
     },
     "execution_count": 22,
     "metadata": {},
     "output_type": "execute_result"
    }
   ],
   "source": [
    "y=7//2\n",
    "type(y)"
   ]
  },
  {
   "cell_type": "code",
   "execution_count": 50,
   "id": "c7e7ec5f-db75-45e9-9a7d-5632cb719d85",
   "metadata": {},
   "outputs": [
    {
     "data": {
      "text/plain": [
       "1"
      ]
     },
     "execution_count": 50,
     "metadata": {},
     "output_type": "execute_result"
    }
   ],
   "source": [
    "5%2 #the remainder of 5 divded by 2 is 1"
   ]
  },
  {
   "cell_type": "code",
   "execution_count": 39,
   "id": "756d7268-59df-4bc7-b377-ed3635637065",
   "metadata": {},
   "outputs": [
    {
     "data": {
      "text/plain": [
       "0"
      ]
     },
     "execution_count": 39,
     "metadata": {},
     "output_type": "execute_result"
    }
   ],
   "source": [
    "20%2"
   ]
  },
  {
   "cell_type": "code",
   "execution_count": 43,
   "id": "380c53ab-204e-4926-af8f-d7b29fdc063f",
   "metadata": {},
   "outputs": [
    {
     "data": {
      "text/plain": [
       "3"
      ]
     },
     "execution_count": 43,
     "metadata": {},
     "output_type": "execute_result"
    }
   ],
   "source": [
    "7%4"
   ]
  }
 ],
 "metadata": {
  "kernelspec": {
   "display_name": "Python 3 (ipykernel)",
   "language": "python",
   "name": "python3"
  },
  "language_info": {
   "codemirror_mode": {
    "name": "ipython",
    "version": 3
   },
   "file_extension": ".py",
   "mimetype": "text/x-python",
   "name": "python",
   "nbconvert_exporter": "python",
   "pygments_lexer": "ipython3",
   "version": "3.12.3"
  },
  "toc": {
   "base_numbering": 1,
   "nav_menu": {},
   "number_sections": true,
   "sideBar": true,
   "skip_h1_title": false,
   "title_cell": "Table of Contents",
   "title_sidebar": "Contents",
   "toc_cell": false,
   "toc_position": {},
   "toc_section_display": true,
   "toc_window_display": false
  },
  "vscode": {
   "interpreter": {
    "hash": "31f2aee4e71d21fbe5cf8b01ff0e069b9275f58929596ceb00d14d90e3e16cd6"
   }
  }
 },
 "nbformat": 4,
 "nbformat_minor": 5
}
