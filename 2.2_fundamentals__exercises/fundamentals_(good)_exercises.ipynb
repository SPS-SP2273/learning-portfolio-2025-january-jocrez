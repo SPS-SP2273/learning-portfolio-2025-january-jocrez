{
 "cells": [
  {
   "attachments": {},
   "cell_type": "markdown",
   "id": "123456",
   "metadata": {},
   "source": [
    "<div style=\"text-align:left;font-size:2em\"><span style=\"font-weight:bolder;font-size:1.25em\">SP2273 | Learning Portfolio</span><br><br><span style=\"font-weight:bold;color:darkred\">Fundamentals (Good) Exercises</span></div>"
   ]
  },
  {
   "cell_type": "markdown",
   "id": "a98a9acf-491f-4b8f-b61e-bdfef3ab856e",
   "metadata": {},
   "source": [
    "# Excercise 1"
   ]
  },
  {
   "cell_type": "code",
   "execution_count": 1,
   "id": "5858ea90-6f7a-4630-aa67-762fb41809bc",
   "metadata": {},
   "outputs": [
    {
     "name": "stdin",
     "output_type": "stream",
     "text": [
      "Please provide me with a number? 5\n"
     ]
    },
    {
     "name": "stdout",
     "output_type": "stream",
     "text": [
      "You entered 5\n"
     ]
    }
   ],
   "source": [
    "user_input = input('Please provide me with a number?')\n",
    "print('You entered', user_input)"
   ]
  },
  {
   "cell_type": "code",
   "execution_count": 14,
   "id": "dc851b8b-bbed-4514-9d86-9d5270edf60a",
   "metadata": {},
   "outputs": [
    {
     "name": "stdin",
     "output_type": "stream",
     "text": [
      "What is your name? Monica\n"
     ]
    },
    {
     "name": "stdout",
     "output_type": "stream",
     "text": [
      "\"How you doin Monica!\"\n"
     ]
    }
   ],
   "source": [
    "user_input = input('What is your name?')\n",
    "print(f'\\\"How you doin {user_input}!\\\"')"
   ]
  },
  {
   "cell_type": "code",
   "execution_count": 18,
   "id": "37969b44-558f-465c-a23c-4f5904a850eb",
   "metadata": {},
   "outputs": [
    {
     "name": "stdin",
     "output_type": "stream",
     "text": [
      "What is your name? Hee\n",
      "What is your age? 288\n"
     ]
    },
    {
     "name": "stdout",
     "output_type": "stream",
     "text": [
      "\"My name is Hee and I am 288 years old.\"\n"
     ]
    }
   ],
   "source": [
    "user_input= input('What is your name?')\n",
    "user_input2 = input('What is your age?')\n",
    "print(f'\\\"My name is {user_input} and I am {user_input2} years old.\"')"
   ]
  },
  {
   "cell_type": "code",
   "execution_count": 19,
   "id": "4a41846e-42df-4aa7-819f-d4108a147c47",
   "metadata": {},
   "outputs": [],
   "source": [
    "pi = 3.141592653589793"
   ]
  },
  {
   "cell_type": "code",
   "execution_count": 27,
   "id": "f7babbcc-7f15-4213-9b27-1b1bcc8d3a3a",
   "metadata": {},
   "outputs": [
    {
     "name": "stdout",
     "output_type": "stream",
     "text": [
      "The value of pi to 2 decimal places is: 3.14\n"
     ]
    }
   ],
   "source": [
    "print(f'The value of pi to 2 decimal places is: {pi:.2f}')"
   ]
  },
  {
   "cell_type": "code",
   "execution_count": 28,
   "id": "681703d4-dff4-4efc-866d-2fea374ee8f7",
   "metadata": {},
   "outputs": [
    {
     "name": "stdout",
     "output_type": "stream",
     "text": [
      "The value of pi to 3 decimal places is: 3.142\n"
     ]
    }
   ],
   "source": [
    "print(f'The value of pi to 3 decimal places is: {pi:.3f}')"
   ]
  },
  {
   "cell_type": "code",
   "execution_count": 29,
   "id": "1107e893-bad7-47a3-a4a9-21d9c7dbaea7",
   "metadata": {},
   "outputs": [
    {
     "name": "stdout",
     "output_type": "stream",
     "text": [
      "The value of pi to 4 decimal places is: 3.1416\n"
     ]
    }
   ],
   "source": [
    "print(f'The value of pi to 4 decimal places is: {pi:.4f}')"
   ]
  },
  {
   "cell_type": "code",
   "execution_count": 37,
   "id": "fba84b9e-1bf3-492e-a12e-0b831e7a660d",
   "metadata": {},
   "outputs": [
    {
     "name": "stdout",
     "output_type": "stream",
     "text": [
      "Apple\t$ 0.99 \n",
      "Banana \t$ 0.59\n",
      "Orange \t$ 1.29\n"
     ]
    }
   ],
   "source": [
    "print('Apple\\t$ 0.99 \\nBanana \\t$ 0.59\\nOrange \\t$ 1.29') "
   ]
  },
  {
   "cell_type": "markdown",
   "id": "739979dd-836d-4a4b-a35b-fc7c92aee3c1",
   "metadata": {},
   "source": [
    "unsure about how to use the note about the names occupying 10 units and the price occupy 5 units"
   ]
  },
  {
   "cell_type": "markdown",
   "id": "8121e16e-f724-4c75-acd6-c5823d4cf55b",
   "metadata": {},
   "source": [
    "# Exercise 2"
   ]
  },
  {
   "cell_type": "code",
   "execution_count": 57,
   "id": "d399ce9e-3007-4693-9b45-3261b52f427c",
   "metadata": {},
   "outputs": [
    {
     "name": "stdin",
     "output_type": "stream",
     "text": [
      "Enter the student's score hello\n"
     ]
    },
    {
     "name": "stdout",
     "output_type": "stream",
     "text": [
      "Please enter a valid number.\n"
     ]
    }
   ],
   "source": [
    "user_input = input('Enter the student\\'s score')\n",
    "try:\n",
    "    score = int(user_input)\n",
    "    if 70<=score<=100:\n",
    "        print('The student\\'s letter grade is: A')\n",
    "    elif 50<=score<=69:\n",
    "        print('The student\\'s letter grade is: B')\n",
    "    elif 35<=score<=49:\n",
    "        print('The student\\'s letter grade is: C')\n",
    "    elif 0<=score<=34:\n",
    "        print('The student\\'s letter grade is: Fail')\n",
    "except ValueError:\n",
    "    print(\"Please enter a valid number.\")"
   ]
  },
  {
   "cell_type": "markdown",
   "id": "d0992411-765d-42b5-99a5-dd1d3e2f6247",
   "metadata": {},
   "source": [
    "# Exercise 3"
   ]
  },
  {
   "cell_type": "code",
   "execution_count": 41,
   "id": "861a7771-f3fb-4bf2-8ff0-6b616366fa7b",
   "metadata": {},
   "outputs": [
    {
     "name": "stdout",
     "output_type": "stream",
     "text": [
      "120\n",
      "Invalid input\n"
     ]
    }
   ],
   "source": [
    "def factorial(n):\n",
    "    if n < 0: #change from more than to less than\n",
    "        return \"Invalid input\"\n",
    "#deleted elif statement\n",
    "    else:\n",
    "        result = 1\n",
    "        for number in range(1, n+1):\n",
    "            result *= number #change from shorthand addition to multiplication\n",
    "        return result\n",
    "\n",
    "\n",
    "print(factorial(5))   # Testing, expected output: 120\n",
    "print(factorial(-1))  # Testing, expected output: Invalid input"
   ]
  },
  {
   "cell_type": "code",
   "execution_count": null,
   "id": "9f9561aa-356d-473d-a976-eefda1ccd6b2",
   "metadata": {},
   "outputs": [],
   "source": []
  }
 ],
 "metadata": {
  "kernelspec": {
   "display_name": "Python 3 (ipykernel)",
   "language": "python",
   "name": "python3"
  },
  "language_info": {
   "codemirror_mode": {
    "name": "ipython",
    "version": 3
   },
   "file_extension": ".py",
   "mimetype": "text/x-python",
   "name": "python",
   "nbconvert_exporter": "python",
   "pygments_lexer": "ipython3",
   "version": "3.12.3"
  },
  "toc": {
   "base_numbering": 1,
   "nav_menu": {},
   "number_sections": true,
   "sideBar": true,
   "skip_h1_title": false,
   "title_cell": "Table of Contents",
   "title_sidebar": "Contents",
   "toc_cell": false,
   "toc_position": {},
   "toc_section_display": true,
   "toc_window_display": false
  },
  "vscode": {
   "interpreter": {
    "hash": "31f2aee4e71d21fbe5cf8b01ff0e069b9275f58929596ceb00d14d90e3e16cd6"
   }
  }
 },
 "nbformat": 4,
 "nbformat_minor": 5
}
