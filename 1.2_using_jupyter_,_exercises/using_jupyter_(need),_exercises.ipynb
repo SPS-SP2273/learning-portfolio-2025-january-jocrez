{
 "cells": [
  {
   "attachments": {},
   "cell_type": "markdown",
   "id": "123456",
   "metadata": {},
   "source": [
    "<div style=\"text-align:left;font-size:2em\"><span style=\"font-weight:bolder;font-size:1.25em\">SP2273 | Learning Portfolio</span><br><br><span style=\"font-weight:bold;color:darkred\">Using Jupyter (Need), Exercises</span></div>"
   ]
  },
  {
   "attachments": {},
   "cell_type": "markdown",
   "id": "1de87b12",
   "metadata": {},
   "source": [
    "## 1 Quadratic Equations"
   ]
  },
  {
   "attachments": {},
   "cell_type": "markdown",
   "id": "6a0fa8a9",
   "metadata": {},
   "source": [
    "### Introduction"
   ]
  },
  {
   "cell_type": "markdown",
   "id": "86135684-640f-4634-bbff-050d5df9a67c",
   "metadata": {},
   "source": [
    "\n",
    "![](https://upload.wikimedia.org/wikipedia/commons/thumb/f/f8/Polynomialdeg2.svg/300px-Polynomialdeg2.svg.png)"
   ]
  },
  {
   "cell_type": "markdown",
   "id": "18aa6b70-b7cf-40f9-bded-80da269c4c17",
   "metadata": {},
   "source": [
    "(*Image from the [Wikipedia page on Quadratic equations](https://en.wikipedia.org/wiki/Quadratic_equation)*)"
   ]
  },
  {
   "cell_type": "markdown",
   "id": "be565851-ae49-46b8-82f0-b44e55c45e0d",
   "metadata": {},
   "source": [
    "The general form of a quadratic equation is: $$ax^2+bx+c=0$$"
   ]
  },
  {
   "attachments": {},
   "cell_type": "markdown",
   "id": "5ab38813",
   "metadata": {},
   "source": [
    "### Solutions"
   ]
  },
  {
   "cell_type": "markdown",
   "id": "5a012201-ee08-473c-a8b5-16523e517430",
   "metadata": {},
   "source": [
    "\n",
    "Provided that $a \\ne 0$, we can use an elementary algebraic method called [completeing the square](https://en.wikipedia.org/wiki/Completing_the_square) to show that a quadratic equation has the following solution:\n",
    "$$ x= \\dfrac{-b \\pm \\sqrt{b^2-4ac}}{2a} $$\n"
   ]
  },
  {
   "attachments": {},
   "cell_type": "markdown",
   "id": "180c4c8e",
   "metadata": {},
   "source": [
    "### Discriminant"
   ]
  },
  {
   "cell_type": "markdown",
   "id": "8bf96f62-40ad-4013-a06d-10af4df48a02",
   "metadata": {},
   "source": [
    "The quantity $\\Delta = b^2 - 4ac$ is called the **discriminant** of the equation and decides the nature of its solutions. The table below shows the various possibilities"
   ]
  },
  {
   "cell_type": "markdown",
   "id": "c6e96fbe-e9ac-42af-8f1b-5b6db78e0dcc",
   "metadata": {},
   "source": [
    "|         Discriminant         | Roots                                  |   |   |   |\n",
    "|:----------------------------:|----------------------------------------|---|---|---|\n",
    "|  $\\Delta$ = $b^2 - 4ac = 0$  | A single solution of $/dfrac{-b}{(2a)} |   |   |   |\n",
    "| $\\Delta$ = $b^2 - 4ac \\gt 0$ | Two distinct solutions                 |   |   |   |\n",
    "| $\\Delta$ = $b^2 - 4ac \\lt 0$ | No real solutions; both are complex.   |   |   |   |"
   ]
  },
  {
   "cell_type": "code",
   "execution_count": null,
   "id": "f620ae55-945e-435c-8c62-5386d566461b",
   "metadata": {},
   "outputs": [],
   "source": []
  }
 ],
 "metadata": {
  "kernelspec": {
   "display_name": "Python 3 (ipykernel)",
   "language": "python",
   "name": "python3"
  },
  "language_info": {
   "codemirror_mode": {
    "name": "ipython",
    "version": 3
   },
   "file_extension": ".py",
   "mimetype": "text/x-python",
   "name": "python",
   "nbconvert_exporter": "python",
   "pygments_lexer": "ipython3",
   "version": "3.12.3"
  },
  "toc": {
   "base_numbering": 1,
   "nav_menu": {},
   "number_sections": true,
   "sideBar": true,
   "skip_h1_title": false,
   "title_cell": "Table of Contents",
   "title_sidebar": "Contents",
   "toc_cell": false,
   "toc_position": {},
   "toc_section_display": true,
   "toc_window_display": false
  },
  "vscode": {
   "interpreter": {
    "hash": "31f2aee4e71d21fbe5cf8b01ff0e069b9275f58929596ceb00d14d90e3e16cd6"
   }
  }
 },
 "nbformat": 4,
 "nbformat_minor": 5
}
