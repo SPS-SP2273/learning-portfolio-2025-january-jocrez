{
 "cells": [
  {
   "attachments": {},
   "cell_type": "markdown",
   "id": "123456",
   "metadata": {},
   "source": [
    "<div style=\"text-align:left;font-size:2em\"><span style=\"font-weight:bolder;font-size:1.25em\">SP2273 | Learning Portfolio</span><br><br><span style=\"font-weight:bold;color:darkred\">Using Jupyter (Need), Exercises</span></div>"
   ]
  },
  {
   "attachments": {},
   "cell_type": "markdown",
   "id": "1de87b12",
   "metadata": {},
   "source": [
    "# 1 Quadratic Equations"
   ]
  },
  {
   "attachments": {},
   "cell_type": "markdown",
   "id": "6a0fa8a9",
   "metadata": {},
   "source": [
    "## Introduction"
   ]
  },
  {
   "cell_type": "markdown",
   "id": "86135684-640f-4634-bbff-050d5df9a67c",
   "metadata": {},
   "source": [
    "\n",
    "![](https://upload.wikimedia.org/wikipedia/commons/thumb/f/f8/Polynomialdeg2.svg/300px-Polynomialdeg2.svg.png)\n",
    "\n",
    "(*Image from the [<ins>Wikipedia page on Quadratic equations</ins>](https://en.wikipedia.org/wiki/Quadratic_equation)*)"
   ]
  },
  {
   "cell_type": "markdown",
   "id": "be565851-ae49-46b8-82f0-b44e55c45e0d",
   "metadata": {},
   "source": [
    "The general form of a quadratic equation is: $$ax^2+bx+c=0$$"
   ]
  },
  {
   "attachments": {},
   "cell_type": "markdown",
   "id": "5ab38813",
   "metadata": {},
   "source": [
    "## Solutions"
   ]
  },
  {
   "cell_type": "markdown",
   "id": "5a012201-ee08-473c-a8b5-16523e517430",
   "metadata": {},
   "source": [
    "\n",
    "Provided $a \\ne 0$, we can use an elementary algebraic method called [<ins>completeing the square</ins>](https://en.wikipedia.org/wiki/Completing_the_square) to show that a quadratic equation has the following solution:\n",
    "$$ x= \\dfrac{-b \\pm \\sqrt{b^2-4ac}}{2a} $$\n"
   ]
  },
  {
   "attachments": {},
   "cell_type": "markdown",
   "id": "180c4c8e",
   "metadata": {},
   "source": [
    "## Discriminant"
   ]
  },
  {
   "cell_type": "markdown",
   "id": "8bf96f62-40ad-4013-a06d-10af4df48a02",
   "metadata": {},
   "source": [
    "The quantity $\\Delta = b^2 - 4ac$ is called the **discriminant** of the equation and decides the nature of its solutions. The table below shows the various possibilities"
   ]
  },
  {
   "cell_type": "markdown",
   "id": "c6e96fbe-e9ac-42af-8f1b-5b6db78e0dcc",
   "metadata": {},
   "source": [
    "|       **Discriminant**       | **Roots**                            |\n",
    "|:----------------------------:|:--------------------------------------|\n",
    "|  $\\Delta$ = $b^2 - 4ac = 0$  | A single solution of ${-b}/{(2a)}$   |\n",
    "| $\\Delta$ = $b^2 - 4ac \\gt 0$ | Two distinct solutions               |\n",
    "| $\\Delta$ = $b^2 - 4ac \\lt 0$ | No real solutions; both are complex. |"
   ]
  },
  {
   "cell_type": "markdown",
   "id": "56f20faf-5f10-4ce3-b8c2-db175903ba05",
   "metadata": {},
   "source": [
    "# Exercise 2"
   ]
  },
  {
   "cell_type": "markdown",
   "id": "05a416a9-95ac-4abd-9a39-d1854a8710a1",
   "metadata": {},
   "source": [
    "1. What is a Git repository?\n",
    "   - It is a cloud platform that allows coders to edit and share their code at the same time\n",
    "   - *a local tracked copy of the collection of files that is maintained*\n",
    "1. Git keeps track of the changes to code\n",
    "1. What is a commit?\n",
    "    - A commit allows the user to choose which changes to the code they want to be tracked. It also allows the user to attach a title and description to the changes they have chosen. These chosen changes are then recorded in your local device.\n",
    "    - *incremental changes to code, changes to the code you wish to make with a title and description for this commit*\n",
    "1. What is a push?\n",
    "    - A push allows for the commits to be shared with others that also have access to the same Git resporsitory. This allows others to see the changes you have made to the code.\n",
    "1. What is a pull?\n",
    "    - A pull allows for the user to sync the code on their local device to the changes on the Git reporsitory and resolve any conflicts between the local device and the Git reporsitory.\n",
    "1. What is the difference between GitHub and GitHub Desktop?\n",
    "    - Github is a website to access your repositories while GitHub Desktop is an application that can be downloaded and installed on the local device to access your repositories.\n",
    "   "
   ]
  },
  {
   "cell_type": "markdown",
   "id": "202e6aa0-ea88-44af-96c4-df216ca2bc2a",
   "metadata": {},
   "source": [
    "# Exercise 3"
   ]
  },
  {
   "cell_type": "markdown",
   "id": "6f313d23-440b-4722-9814-abeaf3d1046e",
   "metadata": {},
   "source": [
    "$\\mu$ = $\\dfrac{1}{n}$ $\\sum\\limits_{i=1}^{n} x_i$"
   ]
  },
  {
   "cell_type": "markdown",
   "id": "9138c9e9-b402-47ca-82b4-b1b60d02173b",
   "metadata": {},
   "source": [
    "$\\sigma$ = $\\sqrt{\\dfrac{1}{n} \\sum\\limits_{i=1}^{n} (x_i-\\mu)^2}$"
   ]
  },
  {
   "cell_type": "markdown",
   "id": "1a0d60ec-fc43-4e42-913d-64ae30658e00",
   "metadata": {},
   "source": [
    "$\\gamma$ = $\\dfrac{\\sum_{i=1}^{n} (x_i-\\mu_X)(y_i-\\mu_Y)}{\\sqrt{\\sum_{i=1}^{n} (x_i-\\mu_X)^2 \\sum_{i=1}^{n} (y_i-\\mu_Y)^2}}$"
   ]
  }
 ],
 "metadata": {
  "kernelspec": {
   "display_name": "Python 3 (ipykernel)",
   "language": "python",
   "name": "python3"
  },
  "language_info": {
   "codemirror_mode": {
    "name": "ipython",
    "version": 3
   },
   "file_extension": ".py",
   "mimetype": "text/x-python",
   "name": "python",
   "nbconvert_exporter": "python",
   "pygments_lexer": "ipython3",
   "version": "3.12.3"
  },
  "toc": {
   "base_numbering": 1,
   "nav_menu": {},
   "number_sections": true,
   "sideBar": true,
   "skip_h1_title": false,
   "title_cell": "Table of Contents",
   "title_sidebar": "Contents",
   "toc_cell": false,
   "toc_position": {},
   "toc_section_display": true,
   "toc_window_display": false
  },
  "vscode": {
   "interpreter": {
    "hash": "31f2aee4e71d21fbe5cf8b01ff0e069b9275f58929596ceb00d14d90e3e16cd6"
   }
  }
 },
 "nbformat": 4,
 "nbformat_minor": 5
}
