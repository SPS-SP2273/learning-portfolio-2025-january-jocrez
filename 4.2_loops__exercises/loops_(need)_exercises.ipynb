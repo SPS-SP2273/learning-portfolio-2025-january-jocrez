{
 "cells": [
  {
   "attachments": {},
   "cell_type": "markdown",
   "id": "123456",
   "metadata": {},
   "source": [
    "<div style=\"text-align:left;font-size:2em\"><span style=\"font-weight:bolder;font-size:1.25em\">SP2273 | Learning Portfolio</span><br><br><span style=\"font-weight:bold;color:darkred\">Loops (Need) Exercises</span></div>"
   ]
  },
  {
   "cell_type": "markdown",
   "id": "e6561c46-06d4-435e-af5f-4db5e728ef8a",
   "metadata": {},
   "source": [
    "# Exercise 1"
   ]
  },
  {
   "cell_type": "code",
   "execution_count": 2,
   "id": "b495ada6-64d9-4159-b5cb-7f74babcd09a",
   "metadata": {},
   "outputs": [],
   "source": [
    "import numpy as np"
   ]
  },
  {
   "cell_type": "code",
   "execution_count": 3,
   "id": "23592d2c-0d6c-4348-949b-4390ff3fc46f",
   "metadata": {},
   "outputs": [],
   "source": [
    "temperatures_celsius = np.array([\n",
    "    0, 5, 10, 15, 20, 25,\n",
    "    30, 35, 40, 45, 50\n",
    "])\n"
   ]
  },
  {
   "cell_type": "code",
   "execution_count": 4,
   "id": "9c004370-ce92-4ead-9851-918a79285c51",
   "metadata": {},
   "outputs": [
    {
     "name": "stdout",
     "output_type": "stream",
     "text": [
      "0°C is 32.0°F\n",
      "5°C is 41.0°F\n",
      "10°C is 50.0°F\n",
      "15°C is 59.0°F\n",
      "20°C is 68.0°F\n",
      "25°C is 77.0°F\n",
      "30°C is 86.0°F\n",
      "35°C is 95.0°F\n",
      "40°C is 104.0°F\n",
      "45°C is 113.0°F\n",
      "50°C is 122.0°F\n"
     ]
    }
   ],
   "source": [
    "for i in range(len(temperatures_celsius)):\n",
    "    temp_celsius = temperatures_celsius[i] # need to define temp_celsius as indiv values\n",
    "    temp_fahr = (temp_celsius * 9 / 5) + 32\n",
    "    print(f\"{temp_celsius}°C is {temp_fahr}°F\")"
   ]
  },
  {
   "cell_type": "markdown",
   "id": "8a16262b-a892-49f8-a5af-b8de38bce5dd",
   "metadata": {},
   "source": [
    "# Exercise 2"
   ]
  },
  {
   "cell_type": "code",
   "execution_count": 8,
   "id": "a319598e-e02b-46c0-9921-b58e54955915",
   "metadata": {},
   "outputs": [
    {
     "name": "stdout",
     "output_type": "stream",
     "text": [
      "A1\tA2\tA3\t\n",
      "\n",
      "B1\tB2\tB3\t\n",
      "\n",
      "C1\tC2\tC3\t\n",
      "\n"
     ]
    }
   ],
   "source": [
    "for letter in ['A', 'B', 'C']:\n",
    "    for number in [1, 2, 3]:\n",
    "        print(f'{letter}{number}', end='\\t')\n",
    "    print('\\n')"
   ]
  },
  {
   "cell_type": "code",
   "execution_count": 10,
   "id": "00fbbabb-b648-4d67-9fff-1ef19b0a035d",
   "metadata": {},
   "outputs": [
    {
     "name": "stdout",
     "output_type": "stream",
     "text": [
      "1 : 1\t2\t3\t4\t5\t\n",
      "\n",
      "2 : 2\t4\t6\t8\t10\t\n",
      "\n",
      "3 : 3\t6\t9\t12\t15\t\n",
      "\n",
      "4 : 4\t8\t12\t16\t20\t\n",
      "\n",
      "5 : 5\t10\t15\t20\t25\t\n",
      "\n"
     ]
    }
   ],
   "source": [
    "for i in range (1,6):\n",
    "    print(f'{i} :', end = ' ')\n",
    "    for j in range (1,6):\n",
    "        multiply = i * j\n",
    "        print(f'{multiply}', end ='\\t')\n",
    "    print('\\n')"
   ]
  },
  {
   "cell_type": "markdown",
   "id": "c0425a51-9008-42ad-8b02-d03f0f129847",
   "metadata": {},
   "source": [
    "# Exercise 3"
   ]
  },
  {
   "cell_type": "code",
   "execution_count": 11,
   "id": "47f8648b-2535-4a6c-81aa-2c0b35782920",
   "metadata": {},
   "outputs": [
    {
     "data": {
      "text/plain": [
       "array([0.90131023, 0.48760351, 0.52802783, 0.50856292, 0.13039705,\n",
       "       0.28827795, 0.93841084, 0.85038028, 0.75537703, 0.49409487])"
      ]
     },
     "execution_count": 11,
     "metadata": {},
     "output_type": "execute_result"
    }
   ],
   "source": [
    "np.random.rand(10)"
   ]
  },
  {
   "cell_type": "code",
   "execution_count": 18,
   "id": "5daa9d09-bee4-4b98-b8f8-f734dddd745b",
   "metadata": {},
   "outputs": [
    {
     "name": "stdout",
     "output_type": "stream",
     "text": [
      "Experiment 1: No. of Heads = 5\n",
      "Experiment 2: No. of Heads = 7\n",
      "Experiment 3: No. of Heads = 5\n",
      "Experiment 4: No. of Heads = 6\n",
      "Experiment 5: No. of Heads = 5\n",
      "Experiment 6: No. of Heads = 6\n",
      "Experiment 7: No. of Heads = 5\n",
      "Experiment 8: No. of Heads = 4\n",
      "Experiment 9: No. of Heads = 6\n",
      "Experiment 10: No. of Heads = 6\n"
     ]
    }
   ],
   "source": [
    "for i in range (1,11):\n",
    "    experiment = np.random.rand(10)\n",
    "    count = 0 \n",
    "    for j in range (len(experiment)):\n",
    "        if experiment[j] > 0.5: \n",
    "            count += 1\n",
    "    print(f'Experiment {i}: No. of Heads = {count}')"
   ]
  },
  {
   "cell_type": "code",
   "execution_count": null,
   "id": "f512abad-02d3-4706-bae5-66e36c2bc69f",
   "metadata": {},
   "outputs": [],
   "source": []
  },
  {
   "cell_type": "code",
   "execution_count": null,
   "id": "f5bfe0d8-34f8-4e40-99d7-49b0fed55a14",
   "metadata": {},
   "outputs": [],
   "source": []
  }
 ],
 "metadata": {
  "kernelspec": {
   "display_name": "Python 3 (ipykernel)",
   "language": "python",
   "name": "python3"
  },
  "language_info": {
   "codemirror_mode": {
    "name": "ipython",
    "version": 3
   },
   "file_extension": ".py",
   "mimetype": "text/x-python",
   "name": "python",
   "nbconvert_exporter": "python",
   "pygments_lexer": "ipython3",
   "version": "3.12.3"
  },
  "toc": {
   "base_numbering": 1,
   "nav_menu": {},
   "number_sections": true,
   "sideBar": true,
   "skip_h1_title": false,
   "title_cell": "Table of Contents",
   "title_sidebar": "Contents",
   "toc_cell": false,
   "toc_position": {},
   "toc_section_display": true,
   "toc_window_display": false
  },
  "vscode": {
   "interpreter": {
    "hash": "31f2aee4e71d21fbe5cf8b01ff0e069b9275f58929596ceb00d14d90e3e16cd6"
   }
  }
 },
 "nbformat": 4,
 "nbformat_minor": 5
}
