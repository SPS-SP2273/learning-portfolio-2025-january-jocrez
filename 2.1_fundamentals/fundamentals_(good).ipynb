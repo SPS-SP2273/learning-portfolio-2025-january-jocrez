{
 "cells": [
  {
   "attachments": {},
   "cell_type": "markdown",
   "id": "123456",
   "metadata": {},
   "source": [
    "<div style=\"text-align:left;font-size:2em\"><span style=\"font-weight:bolder;font-size:1.25em\">SP2273 | Learning Portfolio</span><br><br><span style=\"font-weight:bold;color:darkred\">Fundamentals (Good)</span></div>"
   ]
  },
  {
   "attachments": {},
   "cell_type": "markdown",
   "id": "a5e4ed90",
   "metadata": {},
   "source": [
    "# What to expect in this chapter"
   ]
  },
  {
   "attachments": {},
   "cell_type": "markdown",
   "id": "e4a8cbf2",
   "metadata": {},
   "source": [
    "# 1 There is more to if"
   ]
  },
  {
   "cell_type": "code",
   "execution_count": 3,
   "id": "cbdbbe91-77a2-4048-9681-4ff8bb98e8ad",
   "metadata": {},
   "outputs": [],
   "source": [
    "name = 'Zayne'"
   ]
  },
  {
   "cell_type": "code",
   "execution_count": 5,
   "id": "a1ed36e3-ac3f-4044-92b8-3ad24d47fc69",
   "metadata": {},
   "outputs": [
    {
     "name": "stdout",
     "output_type": "stream",
     "text": [
      "Hello Zayne\n"
     ]
    }
   ],
   "source": [
    "\n",
    "if name == 'Zayne':\n",
    "    print('Hello Zayne')\n",
    "elif name == 'Sylus':\n",
    "    print('Hello Sylus')\n",
    "else:\n",
    "        print('Hello guys')"
   ]
  },
  {
   "attachments": {},
   "cell_type": "markdown",
   "id": "dee5f7a3",
   "metadata": {},
   "source": [
    "# 2 Asking questions"
   ]
  },
  {
   "cell_type": "code",
   "execution_count": 7,
   "id": "67750e91-1fbc-49c6-a5a3-53d4a120ea40",
   "metadata": {},
   "outputs": [],
   "source": [
    "Hero = ['Gojo', 'Nanami', 'Itadori', 'Nobara', 'Megumi']\n",
    "Villain = ['Mahito', 'Sukuna', 'Kenjaku']"
   ]
  },
  {
   "cell_type": "code",
   "execution_count": 8,
   "id": "2a249386-4ddd-4c02-8205-fb412d7a8888",
   "metadata": {},
   "outputs": [
    {
     "data": {
      "text/plain": [
       "True"
      ]
     },
     "execution_count": 8,
     "metadata": {},
     "output_type": "execute_result"
    }
   ],
   "source": [
    "'Nanami' in Hero"
   ]
  },
  {
   "cell_type": "code",
   "execution_count": 9,
   "id": "a2f673b5-3023-4671-8601-4f12fef4e781",
   "metadata": {},
   "outputs": [
    {
     "data": {
      "text/plain": [
       "False"
      ]
     },
     "execution_count": 9,
     "metadata": {},
     "output_type": "execute_result"
    }
   ],
   "source": [
    "'Panda' in Hero"
   ]
  },
  {
   "cell_type": "code",
   "execution_count": 10,
   "id": "85aecaba-5b42-4793-a734-ca986049e1b6",
   "metadata": {},
   "outputs": [
    {
     "data": {
      "text/plain": [
       "True"
      ]
     },
     "execution_count": 10,
     "metadata": {},
     "output_type": "execute_result"
    }
   ],
   "source": [
    "'Panda' not in Hero"
   ]
  },
  {
   "cell_type": "code",
   "execution_count": 11,
   "id": "9d92a782-6f02-418e-bb80-c65266bb33ef",
   "metadata": {},
   "outputs": [
    {
     "data": {
      "text/plain": [
       "True"
      ]
     },
     "execution_count": 11,
     "metadata": {},
     "output_type": "execute_result"
    }
   ],
   "source": [
    "('Nobara' in Hero) and ('Mahito' in Villain)"
   ]
  },
  {
   "cell_type": "code",
   "execution_count": 14,
   "id": "5fd07f7b-a63d-4fc5-ac47-cccc7d501903",
   "metadata": {},
   "outputs": [
    {
     "data": {
      "text/plain": [
       "True"
      ]
     },
     "execution_count": 14,
     "metadata": {},
     "output_type": "execute_result"
    }
   ],
   "source": [
    "('Nobara' in Hero) or ('Mahito' in Villain)"
   ]
  },
  {
   "cell_type": "code",
   "execution_count": 15,
   "id": "b92eeb24-aabf-4577-b26c-ad8d5b132113",
   "metadata": {},
   "outputs": [
    {
     "data": {
      "text/plain": [
       "True"
      ]
     },
     "execution_count": 15,
     "metadata": {},
     "output_type": "execute_result"
    }
   ],
   "source": [
    "'Meg' in 'Megumi'"
   ]
  },
  {
   "cell_type": "code",
   "execution_count": 19,
   "id": "ae1e13eb-0689-40e8-a85a-11888e943739",
   "metadata": {},
   "outputs": [
    {
     "data": {
      "text/plain": [
       "False"
      ]
     },
     "execution_count": 19,
     "metadata": {},
     "output_type": "execute_result"
    }
   ],
   "source": [
    "'Nobara' < 'Gojo' #looks at the number of letters in each"
   ]
  },
  {
   "cell_type": "markdown",
   "id": "a749fcee-612f-482a-987d-afbc30bfddcb",
   "metadata": {},
   "source": [
    "\n",
    "\n",
    "## 2.1 Asking Math questions"
   ]
  },
  {
   "attachments": {},
   "cell_type": "markdown",
   "id": "a14be8da-7823-4f15-b61e-1e8a4840645e",
   "metadata": {},
   "source": [
    "# Python stores information in different formats or types"
   ]
  },
  {
   "cell_type": "code",
   "execution_count": 21,
   "id": "1d713f47-dad6-4673-a979-eb9751220338",
   "metadata": {},
   "outputs": [
    {
     "name": "stdout",
     "output_type": "stream",
     "text": [
      "1 <class 'int'>\n"
     ]
    }
   ],
   "source": [
    "x = int(1.234)\n",
    "print(x,type(x))"
   ]
  },
  {
   "cell_type": "code",
   "execution_count": 26,
   "id": "4602a509-9bef-4f60-ad4e-0cb94467bb7e",
   "metadata": {},
   "outputs": [
    {
     "name": "stdout",
     "output_type": "stream",
     "text": [
      "1.234 <class 'str'>\n"
     ]
    }
   ],
   "source": [
    "y = str(1.234)\n",
    "print(y,type(y)) #as an english word"
   ]
  },
  {
   "cell_type": "code",
   "execution_count": 27,
   "id": "01453e6b-923a-4568-beab-141bda3374ed",
   "metadata": {},
   "outputs": [
    {
     "name": "stdout",
     "output_type": "stream",
     "text": [
      "1.234 <class 'float'>\n"
     ]
    }
   ],
   "source": [
    "z = float(1.234)\n",
    "print(z,type(z))"
   ]
  },
  {
   "cell_type": "code",
   "execution_count": 29,
   "id": "861be6a5-27a9-4219-8ca5-95a13cc63cea",
   "metadata": {},
   "outputs": [
    {
     "name": "stdout",
     "output_type": "stream",
     "text": [
      "(1.234+0j) <class 'complex'>\n"
     ]
    }
   ],
   "source": [
    "a = complex(1.234)\n",
    "print(a, type(a))"
   ]
  },
  {
   "cell_type": "code",
   "execution_count": 30,
   "id": "3008490f-17c0-4458-baab-ab93ad0abf74",
   "metadata": {},
   "outputs": [
    {
     "name": "stdout",
     "output_type": "stream",
     "text": [
      "1.234 <class 'str'>\n"
     ]
    }
   ],
   "source": [
    "b = '1.234'\n",
    "print(b, type(b))"
   ]
  },
  {
   "cell_type": "code",
   "execution_count": 32,
   "id": "1db7f540-5f3e-4d3d-bc35-b77201fec43c",
   "metadata": {},
   "outputs": [
    {
     "name": "stdout",
     "output_type": "stream",
     "text": [
      "1.234 <class 'float'>\n"
     ]
    }
   ],
   "source": [
    "b = float(b)\n",
    "print(b, type(b)) #change the type of a variable"
   ]
  },
  {
   "attachments": {},
   "cell_type": "markdown",
   "id": "72ba4d42",
   "metadata": {},
   "source": [
    "# 4 Never compare floats directly"
   ]
  },
  {
   "attachments": {},
   "cell_type": "markdown",
   "id": "157ae7c8",
   "metadata": {},
   "source": [
    "## 4.1 The Problem"
   ]
  },
  {
   "cell_type": "code",
   "execution_count": 33,
   "id": "e2dfda8a-2a42-4293-9750-ff185efd1e5b",
   "metadata": {},
   "outputs": [
    {
     "data": {
      "text/plain": [
       "False"
      ]
     },
     "execution_count": 33,
     "metadata": {},
     "output_type": "execute_result"
    }
   ],
   "source": [
    "a = 0.1\n",
    "a3 = 0.3\n",
    "a * 3 == a3"
   ]
  },
  {
   "cell_type": "code",
   "execution_count": 35,
   "id": "dc13317e-cf43-43d8-9bdb-78bc91021029",
   "metadata": {},
   "outputs": [
    {
     "data": {
      "text/plain": [
       "'0.29999999999999999'"
      ]
     },
     "execution_count": 35,
     "metadata": {},
     "output_type": "execute_result"
    }
   ],
   "source": [
    "f'{0.3:.17f}' #printing 0.3 to 17dp"
   ]
  },
  {
   "attachments": {},
   "cell_type": "markdown",
   "id": "5e48a85e",
   "metadata": {},
   "source": [
    "## 4.2 A solution"
   ]
  },
  {
   "cell_type": "code",
   "execution_count": 36,
   "id": "764b5582-2a1b-40cd-a121-a7d790c3cbb0",
   "metadata": {},
   "outputs": [
    {
     "data": {
      "text/plain": [
       "True"
      ]
     },
     "execution_count": 36,
     "metadata": {},
     "output_type": "execute_result"
    }
   ],
   "source": [
    "eps = 1E-10\n",
    "abs(a*3-a3)<eps"
   ]
  },
  {
   "cell_type": "code",
   "execution_count": 42,
   "id": "66fa7b9b-3b95-4f1f-9004-620d9febf623",
   "metadata": {},
   "outputs": [],
   "source": [
    "import numpy as np"
   ]
  },
  {
   "cell_type": "code",
   "execution_count": 43,
   "id": "04b47173-c743-4b10-ae49-d98b0a2ce874",
   "metadata": {},
   "outputs": [
    {
     "data": {
      "text/plain": [
       "np.True_"
      ]
     },
     "execution_count": 43,
     "metadata": {},
     "output_type": "execute_result"
    }
   ],
   "source": [
    "np.isclose(a*3, a3)"
   ]
  },
  {
   "attachments": {},
   "cell_type": "markdown",
   "id": "61744bf9",
   "metadata": {},
   "source": [
    "# 5 Combining English and variables"
   ]
  },
  {
   "cell_type": "code",
   "execution_count": 45,
   "id": "e6cbf729-5e5d-4268-bbc8-d45aa2394212",
   "metadata": {},
   "outputs": [
    {
     "name": "stdout",
     "output_type": "stream",
     "text": [
      "Hello Batman!\n"
     ]
    }
   ],
   "source": [
    "name = 'Batman'\n",
    "print(f'Hello {name}!')"
   ]
  },
  {
   "cell_type": "code",
   "execution_count": 48,
   "id": "f6e68e29-e209-46cb-a63e-3ff30d110159",
   "metadata": {},
   "outputs": [
    {
     "name": "stdout",
     "output_type": "stream",
     "text": [
      "Hello BATMAN!\n"
     ]
    }
   ],
   "source": [
    "name = 'Batman'\n",
    "print(f'Hello {name.upper()}!')"
   ]
  },
  {
   "cell_type": "code",
   "execution_count": 49,
   "id": "86f6527f-11a3-4d01-8b65-436c0daf6bbf",
   "metadata": {},
   "outputs": [
    {
     "name": "stdout",
     "output_type": "stream",
     "text": [
      "the value of 10 square is 100\n"
     ]
    }
   ],
   "source": [
    "x = 10\n",
    "print(f'the value of {x} square is {x**2}')"
   ]
  },
  {
   "cell_type": "code",
   "execution_count": 50,
   "id": "1d22de60-460f-4e40-86ce-7fe5bf07773f",
   "metadata": {},
   "outputs": [
    {
     "name": "stdout",
     "output_type": "stream",
     "text": [
      "the cube of pi to 6 decimal places is 31.006277\n"
     ]
    }
   ],
   "source": [
    "print(f'the cube of pi to 6 decimal places is {np.pi**3:.6f}')"
   ]
  },
  {
   "cell_type": "code",
   "execution_count": 51,
   "id": "9200d155-9be5-46ac-b2ce-a1a61c50ce58",
   "metadata": {},
   "outputs": [
    {
     "name": "stdout",
     "output_type": "stream",
     "text": [
      "the cube of pi to 6 decimal places is 3.100628e+01\n"
     ]
    }
   ],
   "source": [
    "print(f'the cube of pi to 6 decimal places is {np.pi**3:.6e}')"
   ]
  },
  {
   "attachments": {},
   "cell_type": "markdown",
   "id": "4eb61bd8",
   "metadata": {},
   "source": [
    "## 5.1 Structure of f-strings"
   ]
  },
  {
   "attachments": {},
   "cell_type": "markdown",
   "id": "d666761f",
   "metadata": {},
   "source": [
    "# 6 Escape sequences"
   ]
  },
  {
   "cell_type": "code",
   "execution_count": 53,
   "id": "ca9194c0-ddb7-4e45-bade-a5509a2160b9",
   "metadata": {},
   "outputs": [
    {
     "name": "stdout",
     "output_type": "stream",
     "text": [
      "Line 1\n",
      "\tLine 2\n",
      "\t\tLine 3\n"
     ]
    }
   ],
   "source": [
    "print('Line 1\\n\\tLine 2\\n\\t\\tLine 3') #\\n is for breakline and \\t is for tab"
   ]
  },
  {
   "cell_type": "code",
   "execution_count": 54,
   "id": "1b4b5015-9c62-4bdb-b618-9789f4a329f9",
   "metadata": {},
   "outputs": [
    {
     "name": "stdout",
     "output_type": "stream",
     "text": [
      "You're twenty years old.\n"
     ]
    }
   ],
   "source": [
    "print('You\\'re twenty years old.') "
   ]
  },
  {
   "cell_type": "code",
   "execution_count": 55,
   "id": "a85e616e-1e03-43b5-9634-2719402d4d35",
   "metadata": {},
   "outputs": [
    {
     "name": "stdout",
     "output_type": "stream",
     "text": [
      "A\\B\\C\n"
     ]
    },
    {
     "name": "stderr",
     "output_type": "stream",
     "text": [
      "<>:1: SyntaxWarning: invalid escape sequence '\\B'\n",
      "<>:1: SyntaxWarning: invalid escape sequence '\\B'\n",
      "C:\\Users\\tangj\\AppData\\Local\\Temp\\ipykernel_45548\\4209481580.py:1: SyntaxWarning: invalid escape sequence '\\B'\n",
      "  print('A\\B\\C')\n"
     ]
    }
   ],
   "source": [
    "print('A\\B\\C')"
   ]
  },
  {
   "cell_type": "code",
   "execution_count": 56,
   "id": "3a25fec2-bb22-451e-b046-38eb75116154",
   "metadata": {},
   "outputs": [
    {
     "name": "stdout",
     "output_type": "stream",
     "text": [
      "A\\B\\C\n"
     ]
    }
   ],
   "source": [
    "print('A\\\\B\\\\C')"
   ]
  },
  {
   "attachments": {},
   "cell_type": "markdown",
   "id": "9ce20673",
   "metadata": {},
   "source": [
    "## 6.1 Self-documenting f-strings"
   ]
  },
  {
   "cell_type": "code",
   "execution_count": 57,
   "id": "0dd702f0-0c62-4dd6-be2e-7bc6d4508b90",
   "metadata": {},
   "outputs": [
    {
     "name": "stdout",
     "output_type": "stream",
     "text": [
      "x=42 and y=24\n"
     ]
    }
   ],
   "source": [
    "x, y= 42, 24\n",
    "print(f'{x=} and {y=}')"
   ]
  },
  {
   "cell_type": "code",
   "execution_count": 61,
   "id": "5cc737f8-8990-4e20-9461-c25849b38037",
   "metadata": {},
   "outputs": [
    {
     "name": "stdout",
     "output_type": "stream",
     "text": [
      "x=8.400 and y=4.800000\n"
     ]
    }
   ],
   "source": [
    "x, y= 42/5, 24/5\n",
    "print(f'{x=:.3f} and {y=:.6f}')"
   ]
  },
  {
   "attachments": {},
   "cell_type": "markdown",
   "id": "4255970f",
   "metadata": {},
   "source": [
    "# 7 Computers read = from Right to Left!"
   ]
  },
  {
   "cell_type": "code",
   "execution_count": 64,
   "id": "db6f7aa1-549d-4081-8912-56feb457403a",
   "metadata": {},
   "outputs": [
    {
     "name": "stdout",
     "output_type": "stream",
     "text": [
      "42\n"
     ]
    }
   ],
   "source": [
    "x = 40\n",
    "y=x+2\n",
    "print (y)"
   ]
  },
  {
   "cell_type": "code",
   "execution_count": 65,
   "id": "86a7492a-2104-4ea2-ab21-84f6818fadad",
   "metadata": {},
   "outputs": [
    {
     "name": "stdout",
     "output_type": "stream",
     "text": [
      "42\n"
     ]
    }
   ],
   "source": [
    "y=40\n",
    "y=y+2\n",
    "print(y)"
   ]
  },
  {
   "attachments": {},
   "cell_type": "markdown",
   "id": "5282ce91",
   "metadata": {},
   "source": [
    "# 8 Shorter and Cleaner Code"
   ]
  },
  {
   "cell_type": "code",
   "execution_count": 67,
   "id": "3945de95-d971-4022-a150-ff39821994fa",
   "metadata": {},
   "outputs": [
    {
     "data": {
      "text/plain": [
       "42"
      ]
     },
     "execution_count": 67,
     "metadata": {},
     "output_type": "execute_result"
    }
   ],
   "source": [
    "y = 40\n",
    "y = y + 2\n",
    "y"
   ]
  },
  {
   "cell_type": "code",
   "execution_count": 68,
   "id": "2c4decd6-1671-4224-8868-3775ab34f3cf",
   "metadata": {},
   "outputs": [
    {
     "data": {
      "text/plain": [
       "42"
      ]
     },
     "execution_count": 68,
     "metadata": {},
     "output_type": "execute_result"
    }
   ],
   "source": [
    "y = 40\n",
    "y += 2    # Same as y = y + 2\n",
    "y"
   ]
  },
  {
   "attachments": {},
   "cell_type": "markdown",
   "id": "402bc15d",
   "metadata": {},
   "source": [
    "# 9 Python can be a prima-donna."
   ]
  },
  {
   "attachments": {},
   "cell_type": "markdown",
   "id": "3d91ab22",
   "metadata": {},
   "source": [
    "# 10 Best Practices for Scientific Computing"
   ]
  },
  {
   "attachments": {},
   "cell_type": "markdown",
   "id": "2b0c12fb",
   "metadata": {},
   "source": [
    "# 11 Looking for help"
   ]
  },
  {
   "attachments": {},
   "cell_type": "markdown",
   "id": "6d75645c",
   "metadata": {},
   "source": [
    "## References"
   ]
  },
  {
   "attachments": {},
   "cell_type": "markdown",
   "id": "faa9f898",
   "metadata": {},
   "source": [
    "## Footnotes"
   ]
  }
 ],
 "metadata": {
  "kernelspec": {
   "display_name": "Python 3 (ipykernel)",
   "language": "python",
   "name": "python3"
  },
  "language_info": {
   "codemirror_mode": {
    "name": "ipython",
    "version": 3
   },
   "file_extension": ".py",
   "mimetype": "text/x-python",
   "name": "python",
   "nbconvert_exporter": "python",
   "pygments_lexer": "ipython3",
   "version": "3.12.3"
  },
  "toc": {
   "base_numbering": 1,
   "nav_menu": {},
   "number_sections": true,
   "sideBar": true,
   "skip_h1_title": false,
   "title_cell": "Table of Contents",
   "title_sidebar": "Contents",
   "toc_cell": false,
   "toc_position": {},
   "toc_section_display": true,
   "toc_window_display": false
  },
  "vscode": {
   "interpreter": {
    "hash": "31f2aee4e71d21fbe5cf8b01ff0e069b9275f58929596ceb00d14d90e3e16cd6"
   }
  }
 },
 "nbformat": 4,
 "nbformat_minor": 5
}
