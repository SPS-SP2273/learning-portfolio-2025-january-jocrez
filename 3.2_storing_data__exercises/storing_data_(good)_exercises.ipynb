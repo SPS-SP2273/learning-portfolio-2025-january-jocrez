{
 "cells": [
  {
   "attachments": {},
   "cell_type": "markdown",
   "id": "123456",
   "metadata": {},
   "source": [
    "<div style=\"text-align:left;font-size:2em\"><span style=\"font-weight:bolder;font-size:1.25em\">SP2273 | Learning Portfolio</span><br><br><span style=\"font-weight:bold;color:darkred\">Storing Data (Good) Exercises</span></div>"
   ]
  },
  {
   "cell_type": "code",
   "execution_count": 4,
   "id": "61bc4b01-d8f9-4623-a096-1b07e3635bc4",
   "metadata": {},
   "outputs": [],
   "source": [
    "import numpy as np"
   ]
  },
  {
   "cell_type": "markdown",
   "id": "f5500a5c-8d7e-4f0c-8608-2ad4d034d555",
   "metadata": {},
   "source": [
    "# Exercise 1"
   ]
  },
  {
   "cell_type": "markdown",
   "id": "9565e976-672f-4556-8d12-e00d5a761d20",
   "metadata": {},
   "source": [
    "Subsetting: To select\n",
    "\n",
    "Indexing: Selecting 1 element\n",
    "\n",
    "Slicing: Selecting a range of elements\n",
    "\n",
    "Masking: Covering and revealing certain elements based on stated criteria"
   ]
  },
  {
   "cell_type": "markdown",
   "id": "56b18018-8072-4a72-990d-75f485aa46e2",
   "metadata": {},
   "source": [
    "# Exercise 2"
   ]
  },
  {
   "cell_type": "code",
   "execution_count": 3,
   "id": "f51d68e1-c5f2-4774-83db-d5a008523c05",
   "metadata": {},
   "outputs": [],
   "source": [
    "np_array_2d = np.array([[1, \"A\"], [3, \"C\"], [2, \"B\"], [4, \"D\"],\n",
    "                        [5, \"E\"], [7, \"G\"], [6, \"F\"], [8, \"H\"],\n",
    "                        [10, \"J\"], [9, \"I\"]])"
   ]
  },
  {
   "cell_type": "code",
   "execution_count": 17,
   "id": "7ca01f34-3019-4bf6-a637-0c4b6698c05d",
   "metadata": {},
   "outputs": [],
   "source": [
    "first_column = np_array_2d[:, 0]"
   ]
  },
  {
   "cell_type": "code",
   "execution_count": 18,
   "id": "e202940f-970a-4d61-b1e8-461fec24c55a",
   "metadata": {},
   "outputs": [
    {
     "name": "stdout",
     "output_type": "stream",
     "text": [
      "['1' '3' '2' '4' '5' '7' '6' '8' '10' '9']\n"
     ]
    }
   ],
   "source": [
    "print(first_column)"
   ]
  },
  {
   "cell_type": "code",
   "execution_count": 19,
   "id": "7254c6b7-a76e-462d-aec6-433e19008e67",
   "metadata": {},
   "outputs": [
    {
     "name": "stdout",
     "output_type": "stream",
     "text": [
      "[ 1  3  2  4  5  7  6  8 10  9]\n"
     ]
    }
   ],
   "source": [
    "first_column = np_array_2d[:, 0].astype(int)\n",
    "print(first_column)"
   ]
  },
  {
   "cell_type": "code",
   "execution_count": 25,
   "id": "aefa4eae-d90e-4134-8d65-3cb962890c2d",
   "metadata": {},
   "outputs": [
    {
     "name": "stdout",
     "output_type": "stream",
     "text": [
      "[1 1 0 0 1 1 0 0 0 1]\n"
     ]
    }
   ],
   "source": [
    "remainder = first_column % 2\n",
    "print(remainder)"
   ]
  },
  {
   "cell_type": "code",
   "execution_count": 27,
   "id": "3a27f356-d4c6-4a95-8c6f-b4a1f87441cc",
   "metadata": {},
   "outputs": [
    {
     "name": "stdout",
     "output_type": "stream",
     "text": [
      "[ True  True False False  True  True False False False  True]\n"
     ]
    }
   ],
   "source": [
    "odd = remainder == 1\n",
    "print (odd)"
   ]
  },
  {
   "cell_type": "code",
   "execution_count": 29,
   "id": "c994af27-2ead-4e04-ae0e-090ea7e35d8f",
   "metadata": {},
   "outputs": [],
   "source": [
    "odd_letters = np_array_2d[odd == True, 1]"
   ]
  },
  {
   "cell_type": "code",
   "execution_count": 30,
   "id": "73d86f42-0e1c-45b7-84f4-e2498beb6986",
   "metadata": {},
   "outputs": [
    {
     "name": "stdout",
     "output_type": "stream",
     "text": [
      "['A' 'C' 'E' 'G' 'I']\n"
     ]
    }
   ],
   "source": [
    "print(odd_letters)"
   ]
  },
  {
   "cell_type": "markdown",
   "id": "3f1d46f2-355f-4383-93ae-c5e06aecdfd1",
   "metadata": {},
   "source": [
    "# Exercise 3"
   ]
  },
  {
   "cell_type": "code",
   "execution_count": 14,
   "id": "1bdb4ba0-e22c-4821-8dc8-3f3cdfdcc5bf",
   "metadata": {},
   "outputs": [],
   "source": [
    "py_list_2d = [\n",
    "[66, 50, 57, -1, -1],\n",
    "[92, -1, 88, -1, -1],\n",
    "[75, -1, -1, 76, -1],\n",
    "[-1, 51, 87, -1, -1],\n",
    "[71, -1, 67, -1, 69]\n",
    "]"
   ]
  },
  {
   "cell_type": "code",
   "execution_count": 15,
   "id": "65e53267-182f-47ae-a378-a3ef86e53703",
   "metadata": {},
   "outputs": [],
   "source": [
    "np_array = np.array(py_list_2d)"
   ]
  },
  {
   "cell_type": "code",
   "execution_count": 16,
   "id": "e003d501-ae34-4bf6-be27-fa2de1dd6867",
   "metadata": {},
   "outputs": [
    {
     "name": "stdout",
     "output_type": "stream",
     "text": [
      "[[66 50 57 -1 -1]\n",
      " [92 -1 88 -1 -1]\n",
      " [75 -1 -1 76 -1]\n",
      " [-1 51 87 -1 -1]\n",
      " [71 -1 67 -1 69]]\n"
     ]
    }
   ],
   "source": [
    "print(np_array)"
   ]
  },
  {
   "cell_type": "code",
   "execution_count": 17,
   "id": "6482c275-1492-4120-8193-921d2fa19bf6",
   "metadata": {},
   "outputs": [],
   "source": [
    "np_array[np_array < 50] = '-1'"
   ]
  },
  {
   "cell_type": "code",
   "execution_count": 24,
   "id": "b680805e-d730-4337-9304-22b2b6d52d20",
   "metadata": {},
   "outputs": [],
   "source": [
    "np_array[np_array > 50] = '+1'"
   ]
  },
  {
   "cell_type": "code",
   "execution_count": 19,
   "id": "e91c8345-eec7-492e-9f2a-30af42a4e344",
   "metadata": {},
   "outputs": [],
   "source": [
    "np_array[np_array == 50] = '0'"
   ]
  },
  {
   "cell_type": "code",
   "execution_count": 22,
   "id": "cbfc1e79-43c6-4128-848f-0d607b3bb848",
   "metadata": {
    "scrolled": true
   },
   "outputs": [
    {
     "name": "stdout",
     "output_type": "stream",
     "text": [
      "[[ 1  0  1 -1 -1]\n",
      " [ 1 -1  1 -1 -1]\n",
      " [ 1 -1 -1  1 -1]\n",
      " [-1  1  1 -1 -1]\n",
      " [ 1 -1  1 -1  1]]\n"
     ]
    }
   ],
   "source": [
    "print(np_array)"
   ]
  },
  {
   "cell_type": "code",
   "execution_count": null,
   "id": "bf950d05-da28-4f0a-bda9-c923f0e29b45",
   "metadata": {},
   "outputs": [],
   "source": []
  }
 ],
 "metadata": {
  "kernelspec": {
   "display_name": "Python 3 (ipykernel)",
   "language": "python",
   "name": "python3"
  },
  "language_info": {
   "codemirror_mode": {
    "name": "ipython",
    "version": 3
   },
   "file_extension": ".py",
   "mimetype": "text/x-python",
   "name": "python",
   "nbconvert_exporter": "python",
   "pygments_lexer": "ipython3",
   "version": "3.12.3"
  },
  "toc": {
   "base_numbering": 1,
   "nav_menu": {},
   "number_sections": true,
   "sideBar": true,
   "skip_h1_title": false,
   "title_cell": "Table of Contents",
   "title_sidebar": "Contents",
   "toc_cell": false,
   "toc_position": {},
   "toc_section_display": true,
   "toc_window_display": false
  },
  "vscode": {
   "interpreter": {
    "hash": "31f2aee4e71d21fbe5cf8b01ff0e069b9275f58929596ceb00d14d90e3e16cd6"
   }
  }
 },
 "nbformat": 4,
 "nbformat_minor": 5
}
