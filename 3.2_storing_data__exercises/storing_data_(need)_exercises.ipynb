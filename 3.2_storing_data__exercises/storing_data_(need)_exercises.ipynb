{
 "cells": [
  {
   "attachments": {},
   "cell_type": "markdown",
   "id": "123456",
   "metadata": {},
   "source": [
    "<div style=\"text-align:left;font-size:2em\"><span style=\"font-weight:bolder;font-size:1.25em\">SP2273 | Learning Portfolio</span><br><br><span style=\"font-weight:bold;color:darkred\">Storing Data (Need) Exercises</span></div>"
   ]
  },
  {
   "cell_type": "code",
   "execution_count": 9,
   "id": "f11a78f0-7839-4cce-8617-f8f6c11a8016",
   "metadata": {},
   "outputs": [],
   "source": [
    "import numpy as np"
   ]
  },
  {
   "cell_type": "markdown",
   "id": "b33a50b8-fa2d-44e6-9f6f-45a0caf9d7e3",
   "metadata": {},
   "source": [
    "# Exercise 1"
   ]
  },
  {
   "cell_type": "markdown",
   "id": "7b4886a4-e044-4b17-bf2c-692890b3f834",
   "metadata": {},
   "source": [
    "Two similarities between lists and arrays.\n",
    "1. Both are used to store information to be used later on\n",
    "2. *Order matters*\n",
    "   \n",
    "Two differences between lists and arrays.\n",
    "1. Arrays work on individual elements while lists work on the entire list of information\n",
    "2. There are more functions available for arrays than lists\n",
    "\n",
    "\n",
    "What is a dictionary?\n",
    "1. Storing of data based on keys and values"
   ]
  },
  {
   "cell_type": "markdown",
   "id": "4a89d575-7129-400b-80e0-504d04efaadb",
   "metadata": {},
   "source": [
    "# Exercise 2"
   ]
  },
  {
   "cell_type": "code",
   "execution_count": 1,
   "id": "49935d9b-90df-4308-9c2f-597ad71bb8c1",
   "metadata": {},
   "outputs": [
    {
     "name": "stdout",
     "output_type": "stream",
     "text": [
      "a1\n",
      "c3\n",
      "e5\n",
      "g7\n",
      "i9\n"
     ]
    }
   ],
   "source": [
    "py_list = [\"a1\", \"b2\", \"c3\", \"d4\", \"e5\", \"f6\", \"g7\", \"h8\", \"i9\", \"j10\"]\n",
    "print(py_list[0])                    # Prints 'a1'\n",
    "print(py_list[2])                    # Prints 'c3'\n",
    "print(py_list[4])                    # Prints 'e5'\n",
    "print(py_list[6])                    # Prints 'g7'\n",
    "print(py_list[8])   # Prints 'i9'"
   ]
  },
  {
   "cell_type": "markdown",
   "id": "af9889cc-1849-4c5c-a2bf-2ba7c9f9f89b",
   "metadata": {},
   "source": [
    "# Exercise 3"
   ]
  },
  {
   "cell_type": "code",
   "execution_count": 3,
   "id": "56c432bb-d54d-4855-a38a-60207199fda8",
   "metadata": {},
   "outputs": [],
   "source": [
    "elements = ['Hydrogen',\n",
    "            'Helium', 'Lithium',\n",
    "            'Beryllium', 'Boron', 'Carbon',\n",
    "            'Nitrogen', 'Oxygen',\n",
    "            'Fluorine',\n",
    "            'Neon']"
   ]
  },
  {
   "cell_type": "code",
   "execution_count": 5,
   "id": "420b1a11-b808-435b-b12b-906c2320202a",
   "metadata": {},
   "outputs": [
    {
     "name": "stdout",
     "output_type": "stream",
     "text": [
      "Boron\n"
     ]
    }
   ],
   "source": [
    "print(elements[4])"
   ]
  },
  {
   "cell_type": "code",
   "execution_count": 6,
   "id": "012186e0-7411-4df3-bf88-14095f93aa23",
   "metadata": {},
   "outputs": [
    {
     "name": "stdout",
     "output_type": "stream",
     "text": [
      "Nitrogen\n"
     ]
    }
   ],
   "source": [
    "print(elements[-4])"
   ]
  },
  {
   "cell_type": "markdown",
   "id": "00f2a433-cc1b-4e0b-8968-98847f3af9c2",
   "metadata": {},
   "source": [
    "# Exercise 4"
   ]
  },
  {
   "cell_type": "code",
   "execution_count": 7,
   "id": "47b9b392-4c97-4afb-98df-0744d0f02a97",
   "metadata": {},
   "outputs": [],
   "source": [
    "numbers=[45, 60, 1, 30, 96, 1, 96, 57, 16, 1,\n",
    "        99, 62, 86, 43, 42, 60, 59, 1, 1, 35,\n",
    "        83, 47, 34, 28, 68, 23, 22, 92, 1, 79,\n",
    "        1, 29, 94, 72, 46, 47, 1, 74, 32, 20,\n",
    "        8, 37, 35, 1, 89, 29, 86, 19, 43, 61]                  "
   ]
  },
  {
   "cell_type": "code",
   "execution_count": 13,
   "id": "ae408e5e-0a02-4ddf-88d2-5a49f8422278",
   "metadata": {},
   "outputs": [],
   "source": [
    "np_arrays_numbers = np.array(numbers)"
   ]
  },
  {
   "cell_type": "code",
   "execution_count": 16,
   "id": "19761d14-53ff-474d-bf66-01b3fb0e0b05",
   "metadata": {},
   "outputs": [],
   "source": [
    "question = np_arrays_numbers == 1"
   ]
  },
  {
   "cell_type": "code",
   "execution_count": 19,
   "id": "a72cc6f0-601f-47c3-9e37-bc2f8e1b21ef",
   "metadata": {},
   "outputs": [
    {
     "data": {
      "text/plain": [
       "np.int64(9)"
      ]
     },
     "execution_count": 19,
     "metadata": {},
     "output_type": "execute_result"
    }
   ],
   "source": [
    "question.sum()"
   ]
  },
  {
   "cell_type": "markdown",
   "id": "37156097-2981-4f59-b005-9025a4771b77",
   "metadata": {},
   "source": [
    "# Exercise 5"
   ]
  },
  {
   "cell_type": "code",
   "execution_count": 20,
   "id": "78099f73-0a7f-4edb-a3a0-ecfe208b8f27",
   "metadata": {},
   "outputs": [],
   "source": [
    "x_1 = [1, 4, 9, 16, 25, 36, 49, 64, 81, 100]\n",
    "x_2 = [1, 8, 27, 64, 125, 216, 343, 512, 729, 1000]"
   ]
  },
  {
   "cell_type": "code",
   "execution_count": 22,
   "id": "45bf46fe-6f4a-49a1-a7a7-958ca5a1ed98",
   "metadata": {},
   "outputs": [],
   "source": [
    "array_x_1 = np.array(x_1)\n",
    "array_x_2 = np.array(x_2)"
   ]
  },
  {
   "cell_type": "code",
   "execution_count": 68,
   "id": "5d837ec9-3d02-4085-b9e1-f418edea7661",
   "metadata": {},
   "outputs": [],
   "source": [
    "mean_x_1 = array_x_1.mean()"
   ]
  },
  {
   "cell_type": "code",
   "execution_count": 69,
   "id": "11daa84c-cbb3-4b57-8fd7-f42fad9be446",
   "metadata": {},
   "outputs": [
    {
     "name": "stdout",
     "output_type": "stream",
     "text": [
      "38.5\n"
     ]
    }
   ],
   "source": [
    "print(mean_x_1)"
   ]
  },
  {
   "cell_type": "code",
   "execution_count": 70,
   "id": "fb4ddebc-a54f-4364-9f64-1c8e179efbb1",
   "metadata": {},
   "outputs": [],
   "source": [
    "mean_x_2 = array_x_2.mean()"
   ]
  },
  {
   "cell_type": "code",
   "execution_count": 71,
   "id": "25d333a4-7e8c-40c8-a0c7-83e922676ffd",
   "metadata": {},
   "outputs": [
    {
     "name": "stdout",
     "output_type": "stream",
     "text": [
      "302.5\n"
     ]
    }
   ],
   "source": [
    "print(mean_x_2)"
   ]
  },
  {
   "cell_type": "code",
   "execution_count": 28,
   "id": "d9661866-155d-443b-a8e3-31731e9d4b03",
   "metadata": {},
   "outputs": [
    {
     "data": {
      "text/plain": [
       "np.float64(32.41990129534635)"
      ]
     },
     "execution_count": 28,
     "metadata": {},
     "output_type": "execute_result"
    }
   ],
   "source": [
    "array_x_1.std()"
   ]
  },
  {
   "cell_type": "code",
   "execution_count": 29,
   "id": "e869edd8-5929-4489-9b7b-1bb570282809",
   "metadata": {},
   "outputs": [
    {
     "data": {
      "text/plain": [
       "np.float64(326.0893282522444)"
      ]
     },
     "execution_count": 29,
     "metadata": {},
     "output_type": "execute_result"
    }
   ],
   "source": [
    "array_x_2.std()"
   ]
  },
  {
   "cell_type": "markdown",
   "id": "bbeddec9-424f-49b8-825a-3295d5b9a362",
   "metadata": {},
   "source": [
    "$\\gamma$ = $\\dfrac{\\sum_{i=1}^{n} (x_i-\\mu_X)(y_i-\\mu_Y)}{\\sqrt{\\sum_{i=1}^{n} (x_i-\\mu_X)^2 \\sum_{i=1}^{n} (y_i-\\mu_Y)^2}}$"
   ]
  },
  {
   "cell_type": "code",
   "execution_count": 67,
   "id": "c13577c2-bb35-4d69-8b6e-8077cd9d1ab1",
   "metadata": {},
   "outputs": [],
   "source": [
    "x1_mean_diff = array_x_1-mean"
   ]
  },
  {
   "cell_type": "code",
   "execution_count": 65,
   "id": "88714a08-2268-4c0d-8ab7-347faf38eded",
   "metadata": {},
   "outputs": [],
   "source": [
    "x2_mean_diff = array_x_2-array_x_2.mean()"
   ]
  },
  {
   "cell_type": "code",
   "execution_count": 53,
   "id": "b8587fb1-1463-4563-bbab-46aacf3586ce",
   "metadata": {},
   "outputs": [],
   "source": [
    "top = x1_mean_diff*x2_mean_diff"
   ]
  },
  {
   "cell_type": "code",
   "execution_count": 50,
   "id": "24f8101a-2895-4a26-a9d0-472de0838efe",
   "metadata": {},
   "outputs": [],
   "source": [
    "numerator = sum(top)"
   ]
  },
  {
   "cell_type": "code",
   "execution_count": 51,
   "id": "e30f8ac8-398e-4d92-9db1-12690d72fe5e",
   "metadata": {},
   "outputs": [],
   "source": [
    "x1_mean_diff_sqred = x1_mean_diff**2"
   ]
  },
  {
   "cell_type": "code",
   "execution_count": 52,
   "id": "eb5c611a-587a-4fed-9acf-5f82b6ec2f6e",
   "metadata": {},
   "outputs": [],
   "source": [
    "x2_mean_diff_sqred = x2_mean_diff**2"
   ]
  },
  {
   "cell_type": "code",
   "execution_count": 54,
   "id": "b6bfd38f-2d34-4bca-a803-e137323e372e",
   "metadata": {},
   "outputs": [],
   "source": [
    "sum_x1_bottom = sum(x1_mean_diff_sqred)"
   ]
  },
  {
   "cell_type": "code",
   "execution_count": 55,
   "id": "d594ac22-7224-44b5-af9d-6f2cd6b616db",
   "metadata": {},
   "outputs": [],
   "source": [
    "sum_x2_bottom = sum(x2_mean_diff_sqred)"
   ]
  },
  {
   "cell_type": "code",
   "execution_count": 56,
   "id": "1ad8dd69-4981-4db1-97c2-64dccf3e8cd8",
   "metadata": {},
   "outputs": [],
   "source": [
    "bottom = sum_x1_bottom*sum_x2_bottom"
   ]
  },
  {
   "cell_type": "code",
   "execution_count": 58,
   "id": "cd87c193-9ae6-494e-b579-19ce4b168e41",
   "metadata": {},
   "outputs": [],
   "source": [
    "denominator = np.sqrt(bottom)"
   ]
  },
  {
   "cell_type": "code",
   "execution_count": 60,
   "id": "8d59249e-beac-4db7-973e-e02578cbc483",
   "metadata": {},
   "outputs": [],
   "source": [
    "coefficient = numerator/denominator"
   ]
  },
  {
   "cell_type": "code",
   "execution_count": 61,
   "id": "fc723023-1543-41ba-ae0c-102c76e28132",
   "metadata": {},
   "outputs": [
    {
     "name": "stdout",
     "output_type": "stream",
     "text": [
      "-1.1266074094434364\n"
     ]
    }
   ],
   "source": [
    "print(coefficient)"
   ]
  },
  {
   "cell_type": "code",
   "execution_count": 62,
   "id": "b70f2094-9396-4463-9309-5e26b0fc0969",
   "metadata": {},
   "outputs": [
    {
     "data": {
      "text/plain": [
       "array([[1.        , 0.98717966],\n",
       "       [0.98717966, 1.        ]])"
      ]
     },
     "execution_count": 62,
     "metadata": {},
     "output_type": "execute_result"
    }
   ],
   "source": [
    "np.corrcoef(array_x_1,array_x_2)"
   ]
  },
  {
   "cell_type": "markdown",
   "id": "f705fd9e-35fc-4baf-9c7b-c89dd65f7ace",
   "metadata": {},
   "source": [
    "1 is not significant as the matrix compares the arrays with itself and with the other array \n",
    "hence the correlation coefficient is 0.98717966"
   ]
  },
  {
   "cell_type": "code",
   "execution_count": null,
   "id": "b54de787-ad2a-429c-9946-ad500278ad50",
   "metadata": {},
   "outputs": [],
   "source": []
  }
 ],
 "metadata": {
  "kernelspec": {
   "display_name": "Python 3 (ipykernel)",
   "language": "python",
   "name": "python3"
  },
  "language_info": {
   "codemirror_mode": {
    "name": "ipython",
    "version": 3
   },
   "file_extension": ".py",
   "mimetype": "text/x-python",
   "name": "python",
   "nbconvert_exporter": "python",
   "pygments_lexer": "ipython3",
   "version": "3.12.3"
  },
  "toc": {
   "base_numbering": 1,
   "nav_menu": {},
   "number_sections": true,
   "sideBar": true,
   "skip_h1_title": false,
   "title_cell": "Table of Contents",
   "title_sidebar": "Contents",
   "toc_cell": false,
   "toc_position": {},
   "toc_section_display": true,
   "toc_window_display": false
  },
  "vscode": {
   "interpreter": {
    "hash": "31f2aee4e71d21fbe5cf8b01ff0e069b9275f58929596ceb00d14d90e3e16cd6"
   }
  }
 },
 "nbformat": 4,
 "nbformat_minor": 5
}
