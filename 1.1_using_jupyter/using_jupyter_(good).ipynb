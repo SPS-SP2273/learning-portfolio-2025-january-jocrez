{
 "cells": [
  {
   "attachments": {},
   "cell_type": "markdown",
   "id": "123456",
   "metadata": {},
   "source": [
    "<div style=\"text-align:left;font-size:2em\"><span style=\"font-weight:bolder;font-size:1.25em\">SP2273 | Learning Portfolio</span><br><br><span style=\"font-weight:bold;color:darkred\">Using Jupyter (Good)</span></div>"
   ]
  },
  {
   "attachments": {},
   "cell_type": "markdown",
   "id": "d0bc39ee",
   "metadata": {},
   "source": [
    "# What to expect in this chapter"
   ]
  },
  {
   "attachments": {},
   "cell_type": "markdown",
   "id": "0ef0aaf8",
   "metadata": {},
   "source": [
    "# 1 Some tips and tricks"
   ]
  },
  {
   "attachments": {},
   "cell_type": "markdown",
   "id": "ad2676b0",
   "metadata": {},
   "source": [
    "## 1.1 Keyboard Shortcuts"
   ]
  },
  {
   "cell_type": "code",
   "execution_count": 2,
   "id": "60a46613-7e75-41cb-935a-c5709166e3ae",
   "metadata": {},
   "outputs": [
    {
     "name": "stdout",
     "output_type": "stream",
     "text": [
      " Volume in drive C is OS\n",
      " Volume Serial Number is C8E5-0AF6\n",
      "\n",
      " Directory of C:\\Users\\tangj\\Desktop\\NUS stuff\\SP2273\\learning-portfolio-2025-january-jocrez\\1.1_using_jupyter\n",
      "\n",
      "17/01/2025  05:09 pm    <DIR>          .\n",
      "15/01/2025  09:09 am    <DIR>          ..\n",
      "17/01/2025  05:22 pm    <DIR>          .ipynb_checkpoints\n",
      "15/01/2025  08:52 am             2,518 using_jupyter_(good).ipynb\n",
      "17/01/2025  05:09 pm             5,593 using_jupyter_(need).ipynb\n",
      "               2 File(s)          8,111 bytes\n",
      "               3 Dir(s)  37,842,345,984 bytes free\n"
     ]
    }
   ],
   "source": [
    "!dir"
   ]
  },
  {
   "attachments": {},
   "cell_type": "markdown",
   "id": "b7ff41c1",
   "metadata": {},
   "source": [
    "### Things to note"
   ]
  },
  {
   "cell_type": "code",
   "execution_count": null,
   "id": "f2a5ecd5",
   "metadata": {},
   "outputs": [],
   "source": [
    "\n",
    "# Your code here\n"
   ]
  },
  {
   "attachments": {},
   "cell_type": "markdown",
   "id": "fe7d0945",
   "metadata": {},
   "source": [
    "## 1.2 Shell commands"
   ]
  },
  {
   "cell_type": "code",
   "execution_count": 3,
   "id": "f8c7d871-dfa2-412a-af7d-dccb238beb35",
   "metadata": {},
   "outputs": [
    {
     "name": "stdout",
     "output_type": "stream",
     "text": [
      " Volume in drive C is OS\n",
      " Volume Serial Number is C8E5-0AF6\n",
      "\n",
      " Directory of C:\\Users\\tangj\\Desktop\\NUS stuff\\SP2273\\learning-portfolio-2025-january-jocrez\\1.1_using_jupyter\n",
      "\n",
      "17/01/2025  05:09 pm    <DIR>          .\n",
      "15/01/2025  09:09 am    <DIR>          ..\n",
      "17/01/2025  05:22 pm    <DIR>          .ipynb_checkpoints\n",
      "15/01/2025  08:52 am             2,518 using_jupyter_(good).ipynb\n",
      "17/01/2025  05:09 pm             5,593 using_jupyter_(need).ipynb\n",
      "               2 File(s)          8,111 bytes\n",
      "               3 Dir(s)  37,842,722,816 bytes free\n"
     ]
    }
   ],
   "source": [
    "!dir"
   ]
  },
  {
   "attachments": {},
   "cell_type": "markdown",
   "id": "30e53924",
   "metadata": {},
   "source": [
    "# 2 Install Notebook 7"
   ]
  },
  {
   "attachments": {},
   "cell_type": "markdown",
   "id": "12ce1fdc",
   "metadata": {},
   "source": [
    "# Jupyter Extensions"
   ]
  },
  {
   "attachments": {},
   "cell_type": "markdown",
   "id": "19b6d939",
   "metadata": {},
   "source": [
    "## Installing the extensions"
   ]
  },
  {
   "attachments": {},
   "cell_type": "markdown",
   "id": "fe0413d5",
   "metadata": {},
   "source": [
    "## Enabling the extensions"
   ]
  },
  {
   "attachments": {},
   "cell_type": "markdown",
   "id": "7e42fe08",
   "metadata": {},
   "source": [
    "# 3 Shell Magic"
   ]
  },
  {
   "cell_type": "code",
   "execution_count": 4,
   "id": "6c3565e1-f570-4950-89f9-d77628a7bd29",
   "metadata": {},
   "outputs": [
    {
     "name": "stdout",
     "output_type": "stream",
     "text": [
      "42.2 ns ± 2.43 ns per loop (mean ± std. dev. of 7 runs, 10,000,000 loops each)\n"
     ]
    }
   ],
   "source": [
    "%timeit x=10"
   ]
  },
  {
   "cell_type": "code",
   "execution_count": 5,
   "id": "a72831b8-4e9e-4bb3-b9df-0ef35770e82d",
   "metadata": {},
   "outputs": [
    {
     "name": "stdout",
     "output_type": "stream",
     "text": [
      "52.7 ns ± 4.92 ns per loop (mean ± std. dev. of 7 runs, 10,000,000 loops each)\n"
     ]
    }
   ],
   "source": [
    "%%timeit\n",
    "x=10\n",
    "y=10"
   ]
  },
  {
   "cell_type": "markdown",
   "id": "03a44f87-1387-4092-9abb-ce7933857d55",
   "metadata": {},
   "source": [
    "useful to compare lines of code to tell you statistics on how long the command takes to execute"
   ]
  },
  {
   "cell_type": "code",
   "execution_count": null,
   "id": "2b128dd7-ed21-4274-90b5-15330f1fb541",
   "metadata": {},
   "outputs": [],
   "source": []
  },
  {
   "attachments": {},
   "cell_type": "markdown",
   "id": "bb061dbc",
   "metadata": {},
   "source": [
    "# 4 The Kernel"
   ]
  },
  {
   "cell_type": "markdown",
   "id": "f899944f-5ee7-402c-be55-dab707eee53b",
   "metadata": {},
   "source": [
    "can shut down kernel if unresponsive"
   ]
  },
  {
   "cell_type": "code",
   "execution_count": null,
   "id": "5b88e0be-05ca-4af0-9587-82e98e2e2305",
   "metadata": {},
   "outputs": [],
   "source": []
  }
 ],
 "metadata": {
  "kernelspec": {
   "display_name": "Python 3 (ipykernel)",
   "language": "python",
   "name": "python3"
  },
  "language_info": {
   "codemirror_mode": {
    "name": "ipython",
    "version": 3
   },
   "file_extension": ".py",
   "mimetype": "text/x-python",
   "name": "python",
   "nbconvert_exporter": "python",
   "pygments_lexer": "ipython3",
   "version": "3.12.3"
  },
  "toc": {
   "base_numbering": 1,
   "nav_menu": {},
   "number_sections": true,
   "sideBar": true,
   "skip_h1_title": false,
   "title_cell": "Table of Contents",
   "title_sidebar": "Contents",
   "toc_cell": false,
   "toc_position": {},
   "toc_section_display": true,
   "toc_window_display": false
  },
  "vscode": {
   "interpreter": {
    "hash": "31f2aee4e71d21fbe5cf8b01ff0e069b9275f58929596ceb00d14d90e3e16cd6"
   }
  }
 },
 "nbformat": 4,
 "nbformat_minor": 5
}
