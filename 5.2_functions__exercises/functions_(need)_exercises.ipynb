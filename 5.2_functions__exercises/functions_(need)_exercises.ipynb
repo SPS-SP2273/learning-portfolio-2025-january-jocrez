{
 "cells": [
  {
   "attachments": {},
   "cell_type": "markdown",
   "id": "123456",
   "metadata": {},
   "source": [
    "<div style=\"text-align:left;font-size:2em\"><span style=\"font-weight:bolder;font-size:1.25em\">SP2273 | Learning Portfolio</span><br><br><span style=\"font-weight:bold;color:darkred\">Functions (Need) Exercises</span></div>"
   ]
  },
  {
   "cell_type": "markdown",
   "id": "dc84111f-6fed-4f6b-bf31-c47f23e46652",
   "metadata": {},
   "source": [
    "# Exercise 1"
   ]
  },
  {
   "cell_type": "code",
   "execution_count": 5,
   "id": "c697479a-2773-4e82-a528-a95e6af11710",
   "metadata": {},
   "outputs": [
    {
     "data": {
      "text/plain": [
       "'Hello Superman!'"
      ]
     },
     "execution_count": 5,
     "metadata": {},
     "output_type": "execute_result"
    }
   ],
   "source": [
    "def greeting(name):\n",
    "    if name == 'Batman':\n",
    "        return 'Hello Batman! So, nice to meet you!'\n",
    "    return f'Hello {name}!'\n",
    "\n",
    "greeting('Superman')"
   ]
  },
  {
   "cell_type": "markdown",
   "id": "c51ef613-2fc7-48c3-8c31-a60dee723d25",
   "metadata": {},
   "source": [
    "The indentation of the second retun indicates the alternative output if other names are input into the function. Python will see the return keyword and provide the return value."
   ]
  },
  {
   "cell_type": "markdown",
   "id": "9172a981-5745-4cb1-ace4-7413a5d438a3",
   "metadata": {},
   "source": [
    "# Exercise 2"
   ]
  },
  {
   "cell_type": "code",
   "execution_count": 8,
   "id": "70a29122-e8c3-4d72-b3a5-4acc30422ad3",
   "metadata": {},
   "outputs": [],
   "source": [
    "import numpy as np"
   ]
  },
  {
   "cell_type": "code",
   "execution_count": 49,
   "id": "5d37b861-72ed-4b00-abc3-dc7e5bbadfd1",
   "metadata": {},
   "outputs": [],
   "source": [
    "def calculate_bmi():\n",
    "    found = False\n",
    "    while found == False:\n",
    "        try:\n",
    "            weight = float(input('What is your weight in kg?'))\n",
    "            height = float(input('What is your height in meters?'))\n",
    "            found = True\n",
    "            np_weight_height = np.array([weight, height])\n",
    "            BMI = (np_weight_height[0])/(np_weight_height[1] ** 2)\n",
    "            if BMI < 18.5:\n",
    "                return 'Underweight'\n",
    "            elif 18.5 <= BMI <=24.9:\n",
    "                return 'Normal weight'\n",
    "            elif 25 <= BMI <= 29.9:\n",
    "                return 'Overweight'\n",
    "            else:\n",
    "                return 'Obese'\n",
    "        except ValueError:\n",
    "            print('Invalid input')\n",
    "        \n",
    "     "
   ]
  },
  {
   "cell_type": "code",
   "execution_count": 51,
   "id": "09130d06-c2dd-4d15-a9e5-763a9708014c",
   "metadata": {},
   "outputs": [
    {
     "name": "stdin",
     "output_type": "stream",
     "text": [
      "What is your weight in kg? hehe\n"
     ]
    },
    {
     "name": "stdout",
     "output_type": "stream",
     "text": [
      "Invalid input\n"
     ]
    },
    {
     "name": "stdin",
     "output_type": "stream",
     "text": [
      "What is your weight in kg? 50\n",
      "What is your height in meters? haha\n"
     ]
    },
    {
     "name": "stdout",
     "output_type": "stream",
     "text": [
      "Invalid input\n"
     ]
    },
    {
     "name": "stdin",
     "output_type": "stream",
     "text": [
      "What is your weight in kg? 50\n",
      "What is your height in meters? 1.6\n"
     ]
    },
    {
     "data": {
      "text/plain": [
       "'Normal weight'"
      ]
     },
     "execution_count": 51,
     "metadata": {},
     "output_type": "execute_result"
    }
   ],
   "source": [
    "calculate_bmi()"
   ]
  },
  {
   "cell_type": "markdown",
   "id": "0d0e7e40-555f-4f7e-94a8-b0a9a1447654",
   "metadata": {},
   "source": [
    "# Exercise 3"
   ]
  },
  {
   "cell_type": "code",
   "execution_count": 89,
   "id": "57553f89-dfe1-45a3-829c-65ecfc1a3a8e",
   "metadata": {},
   "outputs": [],
   "source": [
    "def factorial():\n",
    "    found = False\n",
    "    while found == False:\n",
    "        try:\n",
    "            user_input = int(input('Please enter an integer!'))\n",
    "            if user_input > 0:\n",
    "                found = True\n",
    "                result = 1\n",
    "                for number in range(1, user_input+1):\n",
    "                    result *= number\n",
    "                return result\n",
    "        except ValueError or user_input < 0:\n",
    "            print('Invalid input')     "
   ]
  },
  {
   "cell_type": "code",
   "execution_count": 90,
   "id": "89eba1a9-b2b1-49ad-89e5-07e80d5ebd14",
   "metadata": {},
   "outputs": [
    {
     "name": "stdin",
     "output_type": "stream",
     "text": [
      "Please enter an integer! -4\n",
      "Please enter an integer! t\n"
     ]
    },
    {
     "name": "stdout",
     "output_type": "stream",
     "text": [
      "Invalid input\n"
     ]
    },
    {
     "name": "stdin",
     "output_type": "stream",
     "text": [
      "Please enter an integer! 5\n"
     ]
    },
    {
     "data": {
      "text/plain": [
       "120"
      ]
     },
     "execution_count": 90,
     "metadata": {},
     "output_type": "execute_result"
    }
   ],
   "source": [
    "factorial()"
   ]
  },
  {
   "cell_type": "code",
   "execution_count": 96,
   "id": "689e5f86-3b21-4df1-b174-4a9d7d3ed50c",
   "metadata": {},
   "outputs": [],
   "source": [
    "def factorial():\n",
    "    found = False\n",
    "    while found == False:\n",
    "        try:\n",
    "            user_input = int(input('Please enter an integer!'))\n",
    "            if user_input < 0:\n",
    "                print('Invalid input. Please enter a non-negative integer')\n",
    "            else:\n",
    "                found = True\n",
    "                result = 1\n",
    "                for number in range(1, user_input+1):\n",
    "                    result *= number\n",
    "                return result\n",
    "        except ValueError:\n",
    "            print('Invalid input. Please enter an integer.')     "
   ]
  },
  {
   "cell_type": "code",
   "execution_count": 97,
   "id": "e7ac629a-9e75-4493-a869-4f75da86598b",
   "metadata": {},
   "outputs": [
    {
     "name": "stdin",
     "output_type": "stream",
     "text": [
      "Please enter an integer! -4\n"
     ]
    },
    {
     "name": "stdout",
     "output_type": "stream",
     "text": [
      "Invalid input. Please enter a non-negative integer\n"
     ]
    },
    {
     "name": "stdin",
     "output_type": "stream",
     "text": [
      "Please enter an integer! ko\n"
     ]
    },
    {
     "name": "stdout",
     "output_type": "stream",
     "text": [
      "Invalid input. Please enter an integer.\n"
     ]
    },
    {
     "name": "stdin",
     "output_type": "stream",
     "text": [
      "Please enter an integer! 0\n"
     ]
    },
    {
     "data": {
      "text/plain": [
       "1"
      ]
     },
     "execution_count": 97,
     "metadata": {},
     "output_type": "execute_result"
    }
   ],
   "source": [
    "factorial()"
   ]
  }
 ],
 "metadata": {
  "kernelspec": {
   "display_name": "Python 3 (ipykernel)",
   "language": "python",
   "name": "python3"
  },
  "language_info": {
   "codemirror_mode": {
    "name": "ipython",
    "version": 3
   },
   "file_extension": ".py",
   "mimetype": "text/x-python",
   "name": "python",
   "nbconvert_exporter": "python",
   "pygments_lexer": "ipython3",
   "version": "3.12.3"
  },
  "toc": {
   "base_numbering": 1,
   "nav_menu": {},
   "number_sections": true,
   "sideBar": true,
   "skip_h1_title": false,
   "title_cell": "Table of Contents",
   "title_sidebar": "Contents",
   "toc_cell": false,
   "toc_position": {},
   "toc_section_display": true,
   "toc_window_display": false
  },
  "vscode": {
   "interpreter": {
    "hash": "31f2aee4e71d21fbe5cf8b01ff0e069b9275f58929596ceb00d14d90e3e16cd6"
   }
  }
 },
 "nbformat": 4,
 "nbformat_minor": 5
}
