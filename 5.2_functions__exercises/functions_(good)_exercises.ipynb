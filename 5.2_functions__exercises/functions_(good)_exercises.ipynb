{
 "cells": [
  {
   "attachments": {},
   "cell_type": "markdown",
   "id": "123456",
   "metadata": {},
   "source": [
    "<div style=\"text-align:left;font-size:2em\"><span style=\"font-weight:bolder;font-size:1.25em\">SP2273 | Learning Portfolio</span><br><br><span style=\"font-weight:bold;color:darkred\">Functions (Good) Exercises</span></div>"
   ]
  },
  {
   "cell_type": "markdown",
   "id": "51107a53-a1be-40f9-9208-195ac99baf4a",
   "metadata": {},
   "source": [
    "# Exercise 1"
   ]
  },
  {
   "cell_type": "code",
   "execution_count": 31,
   "id": "4a735eed-60b8-4bf7-b947-00512f45c89e",
   "metadata": {},
   "outputs": [],
   "source": [
    "def convert_celsius(temperature_celsius, target_scale = 'Fahrenheit'):\n",
    "    if target_scale == 'Fahrenheit':\n",
    "        return temperature_celsius * (9/5) + 32\n",
    "    elif target_scale == 'Kelvin':\n",
    "        return temperature_celsius + 273.15"
   ]
  },
  {
   "cell_type": "code",
   "execution_count": 32,
   "id": "f18d68f5-391c-4d90-889f-4f2dddccf37f",
   "metadata": {},
   "outputs": [
    {
     "data": {
      "text/plain": [
       "323.15"
      ]
     },
     "execution_count": 32,
     "metadata": {},
     "output_type": "execute_result"
    }
   ],
   "source": [
    "convert_celsius(50, 'Kelvin')"
   ]
  },
  {
   "cell_type": "code",
   "execution_count": 33,
   "id": "113935e4-8fa9-4590-a098-9e8d9fe45c0a",
   "metadata": {},
   "outputs": [
    {
     "data": {
      "text/plain": [
       "122.0"
      ]
     },
     "execution_count": 33,
     "metadata": {},
     "output_type": "execute_result"
    }
   ],
   "source": [
    "convert_celsius(50, 'Fahrenheit')"
   ]
  },
  {
   "cell_type": "code",
   "execution_count": 34,
   "id": "a75bac95-3df4-4157-9cae-e272f0e0a7ec",
   "metadata": {},
   "outputs": [
    {
     "data": {
      "text/plain": [
       "122.0"
      ]
     },
     "execution_count": 34,
     "metadata": {},
     "output_type": "execute_result"
    }
   ],
   "source": [
    "convert_celsius(50)"
   ]
  },
  {
   "cell_type": "markdown",
   "id": "a7c14152-5716-49bb-868b-d75cea8ffca8",
   "metadata": {},
   "source": [
    "# Exercise 2"
   ]
  },
  {
   "cell_type": "code",
   "execution_count": 35,
   "id": "0898fb28-0b03-4178-9de4-d5492d04ffc1",
   "metadata": {},
   "outputs": [],
   "source": [
    "def convert_fahrenheit(temperature_fahrenheit, target_scale = 'Celsius'):\n",
    "    if target_scale == 'Celsius':\n",
    "        return (temperature_fahrenheit - 32) * (5/9)\n",
    "    elif target_scale == 'Kelvin':\n",
    "        return (temperature_fahrenheit - 32) * (5/9) + 273.15"
   ]
  },
  {
   "cell_type": "code",
   "execution_count": 36,
   "id": "20745d38-33c7-43ae-a541-3a66004da5d2",
   "metadata": {},
   "outputs": [
    {
     "data": {
      "text/plain": [
       "37.77777777777778"
      ]
     },
     "execution_count": 36,
     "metadata": {},
     "output_type": "execute_result"
    }
   ],
   "source": [
    "convert_fahrenheit(100, 'Celsius')"
   ]
  },
  {
   "cell_type": "code",
   "execution_count": 37,
   "id": "84fe9810-7ea6-43d1-8c3c-5a5053bb72db",
   "metadata": {},
   "outputs": [
    {
     "data": {
      "text/plain": [
       "310.92777777777775"
      ]
     },
     "execution_count": 37,
     "metadata": {},
     "output_type": "execute_result"
    }
   ],
   "source": [
    "convert_fahrenheit(100, 'Kelvin')"
   ]
  },
  {
   "cell_type": "code",
   "execution_count": 38,
   "id": "1932e06f-a6a4-43d8-b677-fd39e8e6bf8c",
   "metadata": {},
   "outputs": [
    {
     "data": {
      "text/plain": [
       "37.77777777777778"
      ]
     },
     "execution_count": 38,
     "metadata": {},
     "output_type": "execute_result"
    }
   ],
   "source": [
    "convert_fahrenheit(100)"
   ]
  },
  {
   "cell_type": "markdown",
   "id": "035a10b6-40a5-4e70-9811-adb575b187cc",
   "metadata": {},
   "source": [
    "# Exercise 3"
   ]
  },
  {
   "cell_type": "code",
   "execution_count": 100,
   "id": "22dc0327-7438-4756-ad85-5646ff31ac12",
   "metadata": {},
   "outputs": [],
   "source": [
    "def convert_temperature(temperature, source_scale, target_scale):\n",
    "    try:\n",
    "        temperature = float(temperature)\n",
    "        if source_scale == target_scale:\n",
    "            return temperature\n",
    "        elif source_scale == 'Celsius':\n",
    "            if target_scale == 'Fahrenheit':\n",
    "                return temperature * (9/5) + 32\n",
    "            elif target_scale == 'Kelvin':\n",
    "                return temperature + 273.15\n",
    "        elif source_scale == 'Fahrenheit':\n",
    "            if target_scale == 'Celsius':\n",
    "                return (temperature - 32) * (5/9)\n",
    "            elif target_scale == 'Kelvin':\n",
    "                return (temperature  - 32) * (5/9) + 273.15\n",
    "        elif source_scale == 'Kelvin':\n",
    "            if target_scale == 'Celsius':\n",
    "                return temperature - 273.15\n",
    "            elif target_scale == 'Fahrenheit':\n",
    "                return (temperature  - 273.15) * (9/5) + 32\n",
    "        return \"Invalid temperature scale\"\n",
    "    except ValueError:\n",
    "        return 'Invalid input'"
   ]
  },
  {
   "cell_type": "code",
   "execution_count": 109,
   "id": "220e9f76-98fe-4b04-b3a5-ac0f8704d8f0",
   "metadata": {},
   "outputs": [
    {
     "data": {
      "text/plain": [
       "-223.14999999999998"
      ]
     },
     "execution_count": 109,
     "metadata": {},
     "output_type": "execute_result"
    }
   ],
   "source": [
    "convert_temperature(50,'Kelvin','Celsius')"
   ]
  },
  {
   "cell_type": "code",
   "execution_count": 110,
   "id": "1539fef4-5f50-4e0b-a6b7-9285c39c9e88",
   "metadata": {},
   "outputs": [
    {
     "data": {
      "text/plain": [
       "'Invalid input'"
      ]
     },
     "execution_count": 110,
     "metadata": {},
     "output_type": "execute_result"
    }
   ],
   "source": [
    "convert_temperature('hehe','Kelvin','Celsius')"
   ]
  },
  {
   "cell_type": "code",
   "execution_count": 111,
   "id": "bb6f2770-ebe3-46c5-9171-71e7dec01dcf",
   "metadata": {},
   "outputs": [
    {
     "data": {
      "text/plain": [
       "'Invalid temperature scale'"
      ]
     },
     "execution_count": 111,
     "metadata": {},
     "output_type": "execute_result"
    }
   ],
   "source": [
    "convert_temperature(50,'hehe','Celsius')"
   ]
  },
  {
   "cell_type": "code",
   "execution_count": 112,
   "id": "de011e02-c7ad-42b9-8a3c-cd43e55fbb69",
   "metadata": {},
   "outputs": [
    {
     "data": {
      "text/plain": [
       "'Invalid temperature scale'"
      ]
     },
     "execution_count": 112,
     "metadata": {},
     "output_type": "execute_result"
    }
   ],
   "source": [
    "convert_temperature(50,'Kelvin','haha')"
   ]
  }
 ],
 "metadata": {
  "kernelspec": {
   "display_name": "Python 3 (ipykernel)",
   "language": "python",
   "name": "python3"
  },
  "language_info": {
   "codemirror_mode": {
    "name": "ipython",
    "version": 3
   },
   "file_extension": ".py",
   "mimetype": "text/x-python",
   "name": "python",
   "nbconvert_exporter": "python",
   "pygments_lexer": "ipython3",
   "version": "3.12.3"
  },
  "toc": {
   "base_numbering": 1,
   "nav_menu": {},
   "number_sections": true,
   "sideBar": true,
   "skip_h1_title": false,
   "title_cell": "Table of Contents",
   "title_sidebar": "Contents",
   "toc_cell": false,
   "toc_position": {},
   "toc_section_display": true,
   "toc_window_display": false
  },
  "vscode": {
   "interpreter": {
    "hash": "31f2aee4e71d21fbe5cf8b01ff0e069b9275f58929596ceb00d14d90e3e16cd6"
   }
  }
 },
 "nbformat": 4,
 "nbformat_minor": 5
}
